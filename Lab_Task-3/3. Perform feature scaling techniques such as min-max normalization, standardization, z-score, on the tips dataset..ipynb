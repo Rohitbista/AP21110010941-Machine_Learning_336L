{
 "cells": [
  {
   "cell_type": "code",
   "execution_count": 9,
   "id": "b3039733",
   "metadata": {},
   "outputs": [],
   "source": [
    "import pandas as pd\n",
    "from sklearn.preprocessing import MinMaxScaler\n",
    "import matplotlib.pyplot as plt"
   ]
  },
  {
   "cell_type": "code",
   "execution_count": 2,
   "id": "e33892ad",
   "metadata": {},
   "outputs": [],
   "source": [
    "df = pd.read_csv(\"C:/123/SRMAP/Semester 6/Machine Learning Lab/Task 3/tips.csv\")"
   ]
  },
  {
   "cell_type": "markdown",
   "id": "995dcfa0",
   "metadata": {},
   "source": [
    "### min-max normalization"
   ]
  },
  {
   "cell_type": "code",
   "execution_count": 3,
   "id": "edd7e6b2",
   "metadata": {},
   "outputs": [],
   "source": [
    "min_max = MinMaxScaler()"
   ]
  },
  {
   "cell_type": "code",
   "execution_count": 6,
   "id": "9f7d3921",
   "metadata": {},
   "outputs": [
    {
     "data": {
      "text/html": [
       "<div>\n",
       "<style scoped>\n",
       "    .dataframe tbody tr th:only-of-type {\n",
       "        vertical-align: middle;\n",
       "    }\n",
       "\n",
       "    .dataframe tbody tr th {\n",
       "        vertical-align: top;\n",
       "    }\n",
       "\n",
       "    .dataframe thead th {\n",
       "        text-align: right;\n",
       "    }\n",
       "</style>\n",
       "<table border=\"1\" class=\"dataframe\">\n",
       "  <thead>\n",
       "    <tr style=\"text-align: right;\">\n",
       "      <th></th>\n",
       "      <th>0</th>\n",
       "      <th>1</th>\n",
       "    </tr>\n",
       "  </thead>\n",
       "  <tbody>\n",
       "    <tr>\n",
       "      <th>0</th>\n",
       "      <td>0.291579</td>\n",
       "      <td>0.001111</td>\n",
       "    </tr>\n",
       "    <tr>\n",
       "      <th>1</th>\n",
       "      <td>NaN</td>\n",
       "      <td>0.073333</td>\n",
       "    </tr>\n",
       "    <tr>\n",
       "      <th>2</th>\n",
       "      <td>0.375786</td>\n",
       "      <td>0.277778</td>\n",
       "    </tr>\n",
       "    <tr>\n",
       "      <th>3</th>\n",
       "      <td>0.431713</td>\n",
       "      <td>0.256667</td>\n",
       "    </tr>\n",
       "    <tr>\n",
       "      <th>4</th>\n",
       "      <td>0.450775</td>\n",
       "      <td>0.290000</td>\n",
       "    </tr>\n",
       "  </tbody>\n",
       "</table>\n",
       "</div>"
      ],
      "text/plain": [
       "          0         1\n",
       "0  0.291579  0.001111\n",
       "1       NaN  0.073333\n",
       "2  0.375786  0.277778\n",
       "3  0.431713  0.256667\n",
       "4  0.450775  0.290000"
      ]
     },
     "execution_count": 6,
     "metadata": {},
     "output_type": "execute_result"
    }
   ],
   "source": [
    "df_minmax = pd.DataFrame(min_max.fit_transform(df[['total_bill','tip']]))\n",
    "df_minmax.head()"
   ]
  },
  {
   "cell_type": "code",
   "execution_count": 13,
   "id": "810fa3d3",
   "metadata": {},
   "outputs": [
    {
     "data": {
      "text/plain": [
       "(array([ 1.,  6., 10.,  0., 24., 37., 28., 23., 18., 13., 10.,  9.,  5.,\n",
       "         7.,  3.,  4.,  1.,  2.,  3.,  1.]),\n",
       " array([0.  , 0.05, 0.1 , 0.15, 0.2 , 0.25, 0.3 , 0.35, 0.4 , 0.45, 0.5 ,\n",
       "        0.55, 0.6 , 0.65, 0.7 , 0.75, 0.8 , 0.85, 0.9 , 0.95, 1.  ]),\n",
       " <BarContainer object of 20 artists>)"
      ]
     },
     "execution_count": 13,
     "metadata": {},
     "output_type": "execute_result"
    },
    {
     "data": {
      "image/png": "[encoded data removed]",
      "text/plain": [
       "<Figure size 640x480 with 1 Axes>"
      ]
     },
     "metadata": {},
     "output_type": "display_data"
    }
   ],
   "source": [
    "plt.hist(df_minmax[0], bins = 20)"
   ]
  },
  {
   "cell_type": "code",
   "execution_count": 14,
   "id": "72e6f930",
   "metadata": {},
   "outputs": [
    {
     "data": {
      "text/plain": [
       "(array([15., 26., 55., 24., 41., 25., 20.,  7., 13.,  6.,  4.,  1.,  4.,\n",
       "         0.,  1.,  0.,  0.,  1.,  0.,  1.]),\n",
       " array([0.  , 0.05, 0.1 , 0.15, 0.2 , 0.25, 0.3 , 0.35, 0.4 , 0.45, 0.5 ,\n",
       "        0.55, 0.6 , 0.65, 0.7 , 0.75, 0.8 , 0.85, 0.9 , 0.95, 1.  ]),\n",
       " <BarContainer object of 20 artists>)"
      ]
     },
     "execution_count": 14,
     "metadata": {},
     "output_type": "execute_result"
    },
    {
     "data": {
      "image/png": "[encoded data removed]",
      "text/plain": [
       "<Figure size 640x480 with 1 Axes>"
      ]
     },
     "metadata": {},
     "output_type": "display_data"
    }
   ],
   "source": [
    "plt.hist(df_minmax[1], bins = 20)"
   ]
  },
  {
   "cell_type": "markdown",
   "id": "dbac5d36",
   "metadata": {},
   "source": [
    "### Standarization"
   ]
  },
  {
   "cell_type": "code",
   "execution_count": 15,
   "id": "c5f4a2c4",
   "metadata": {},
   "outputs": [],
   "source": [
    "from sklearn.preprocessing import StandardScaler"
   ]
  },
  {
   "cell_type": "code",
   "execution_count": 16,
   "id": "712cf792",
   "metadata": {},
   "outputs": [],
   "source": [
    "scaler = StandardScaler()"
   ]
  },
  {
   "cell_type": "code",
   "execution_count": 18,
   "id": "746acc65",
   "metadata": {},
   "outputs": [
    {
     "data": {
      "text/html": [
       "<div>\n",
       "<style scoped>\n",
       "    .dataframe tbody tr th:only-of-type {\n",
       "        vertical-align: middle;\n",
       "    }\n",
       "\n",
       "    .dataframe tbody tr th {\n",
       "        vertical-align: top;\n",
       "    }\n",
       "\n",
       "    .dataframe thead th {\n",
       "        text-align: right;\n",
       "    }\n",
       "</style>\n",
       "<table border=\"1\" class=\"dataframe\">\n",
       "  <thead>\n",
       "    <tr style=\"text-align: right;\">\n",
       "      <th></th>\n",
       "      <th>Unnamed: 0</th>\n",
       "      <th>total_bill</th>\n",
       "      <th>tip</th>\n",
       "      <th>sex</th>\n",
       "      <th>smoker</th>\n",
       "      <th>day</th>\n",
       "      <th>time</th>\n",
       "      <th>size</th>\n",
       "    </tr>\n",
       "  </thead>\n",
       "  <tbody>\n",
       "    <tr>\n",
       "      <th>0</th>\n",
       "      <td>0</td>\n",
       "      <td>16.99</td>\n",
       "      <td>1.01</td>\n",
       "      <td>Female</td>\n",
       "      <td>No</td>\n",
       "      <td>Sun</td>\n",
       "      <td>Dinner</td>\n",
       "      <td>2</td>\n",
       "    </tr>\n",
       "    <tr>\n",
       "      <th>1</th>\n",
       "      <td>1</td>\n",
       "      <td>NaN</td>\n",
       "      <td>1.66</td>\n",
       "      <td>Male</td>\n",
       "      <td>No</td>\n",
       "      <td>Sun</td>\n",
       "      <td>Dinner</td>\n",
       "      <td>3</td>\n",
       "    </tr>\n",
       "    <tr>\n",
       "      <th>2</th>\n",
       "      <td>2</td>\n",
       "      <td>21.01</td>\n",
       "      <td>3.50</td>\n",
       "      <td>Male</td>\n",
       "      <td>No</td>\n",
       "      <td>Sun</td>\n",
       "      <td>Dinner</td>\n",
       "      <td>3</td>\n",
       "    </tr>\n",
       "    <tr>\n",
       "      <th>3</th>\n",
       "      <td>3</td>\n",
       "      <td>23.68</td>\n",
       "      <td>3.31</td>\n",
       "      <td>Male</td>\n",
       "      <td>No</td>\n",
       "      <td>Sun</td>\n",
       "      <td>Dinner</td>\n",
       "      <td>2</td>\n",
       "    </tr>\n",
       "    <tr>\n",
       "      <th>4</th>\n",
       "      <td>4</td>\n",
       "      <td>24.59</td>\n",
       "      <td>3.61</td>\n",
       "      <td>Female</td>\n",
       "      <td>No</td>\n",
       "      <td>Sun</td>\n",
       "      <td>Dinner</td>\n",
       "      <td>4</td>\n",
       "    </tr>\n",
       "  </tbody>\n",
       "</table>\n",
       "</div>"
      ],
      "text/plain": [
       "   Unnamed: 0  total_bill   tip     sex smoker  day    time  size\n",
       "0           0       16.99  1.01  Female     No  Sun  Dinner     2\n",
       "1           1         NaN  1.66    Male     No  Sun  Dinner     3\n",
       "2           2       21.01  3.50    Male     No  Sun  Dinner     3\n",
       "3           3       23.68  3.31    Male     No  Sun  Dinner     2\n",
       "4           4       24.59  3.61  Female     No  Sun  Dinner     4"
      ]
     },
     "execution_count": 18,
     "metadata": {},
     "output_type": "execute_result"
    }
   ],
   "source": [
    "df.head()"
   ]
  },
  {
   "cell_type": "code",
   "execution_count": 21,
   "id": "f56f03e8",
   "metadata": {},
   "outputs": [],
   "source": [
    "df_scaled = scaler.fit_transform(df[['total_bill','tip']])"
   ]
  },
  {
   "cell_type": "code",
   "execution_count": 22,
   "id": "08f54aa0",
   "metadata": {},
   "outputs": [
    {
     "name": "stdout",
     "output_type": "stream",
     "text": [
      "[[-4.94023960e-01 -1.43994695e+00]\n",
      " [            nan -9.69205340e-01]\n",
      " [-3.95874271e-02  3.63355539e-01]\n",
      " [ 2.62239822e-01  2.25754144e-01]\n",
      " [ 3.65109784e-01  4.43019505e-01]\n",
      " [ 4.44240523e-01  1.23965916e+00]\n",
      " [-1.42324493e+00 -7.22971264e-01]\n",
      " [ 6.23980346e-01  8.81527488e-02]\n",
      " [-7.14459592e-01 -7.51939979e-01]\n",
      " [-7.43851009e-01  1.67816714e-01]\n",
      " [            nan -9.32994446e-01]\n",
      " [ 1.57128834e+00  1.44968234e+00]\n",
      " [-6.71502904e-01 -1.03438495e+00]\n",
      " [-3.31240724e-01  1.24660453e-03]\n",
      " [-7.38198813e-01  1.57309619e-02]\n",
      " [ 2.48476037e-02  6.67527044e-01]\n",
      " [            nan -9.61963161e-01]\n",
      " [-5.73154700e-01  5.15441291e-01]\n",
      " [-4.96284838e-01  3.63355539e-01]\n",
      " [-8.02832360e-02  2.54722859e-01]\n",
      " [-3.88893120e-01  7.83401903e-01]\n",
      " [-1.20979045e-01 -1.79807863e-01]\n",
      " [-6.31937535e-01 -5.56401155e-01]\n",
      " [ 2.04155102e+00  3.31816444e+00]\n",
      " [-1.74109684e-01  1.31605821e-01]\n",
      " [-4.01327951e-01 -4.76737189e-01]\n",
      " [-9.03242927e-01 -7.22971264e-01]\n",
      " [            nan -7.22971264e-01]\n",
      " [ 3.84128733e-02  9.42729834e-01]\n",
      " [-1.93327150e-01  1.24660453e-03]\n",
      " [-1.33507068e+00 -1.12129109e+00]\n",
      " [-3.40284237e-01 -3.60862330e-01]\n",
      " [-7.12198713e-01  1.24660453e-03]\n",
      " [-7.57614795e-02 -3.97073223e-01]\n",
      " [-4.04719268e-01  1.96785429e-01]\n",
      " [ 3.05196509e-01  4.35777326e-01]\n",
      " [-5.70893821e-01 -7.22971264e-01]\n",
      " [-5.00806595e-01  5.19418554e-02]\n",
      " [-3.01849307e-01 -4.98463725e-01]\n",
      " [ 1.12024313e+00  1.44968234e+00]\n",
      " [-6.01415678e-01 -5.49158976e-01]\n",
      " [-4.40893321e-01 -3.31893615e-01]\n",
      " [-8.38807897e-01  4.46996767e-02]\n",
      " [-1.32037497e+00 -1.21543942e+00]\n",
      " [ 1.02189492e+00  1.88421306e+00]\n",
      " [-3.47066872e-01  1.24660453e-03]\n",
      " [ 9.83261475e-02  1.44968234e+00]\n",
      " [ 1.24798275e+00  2.17390021e+00]\n",
      " [ 8.12763682e-01 -6.86760371e-01]\n",
      " [-3.75327851e-01  1.24660453e-03]\n",
      " [            nan -3.60862330e-01]\n",
      " [            nan -2.88440543e-01]\n",
      " [ 1.52041858e+00  1.59452592e+00]\n",
      " [-1.29098355e+00 -1.04162713e+00]\n",
      " [ 4.74762380e-01  9.71698549e-01]\n",
      " [-2.11414176e-01  3.70597718e-01]\n",
      " [ 1.88215910e+00  1.24660453e-03]\n",
      " [ 5.70849707e-01 -1.08508020e+00]\n",
      " [            nan -8.96783553e-01]\n",
      " [ 3.04198966e+00  2.70257926e+00]\n",
      " [-1.20979045e-01  1.53332357e-01]\n",
      " [-8.53503605e-01 -7.22971264e-01]\n",
      " [            nan -7.37455622e-01]\n",
      " [-3.47066872e-01  5.51652185e-01]\n",
      " [-4.26197612e-01 -2.59471828e-01]\n",
      " [-1.44718267e-01  1.09879285e-01]\n",
      " [-5.55067673e-01 -3.82588866e-01]\n",
      " [-2.06759524e+00 -1.44718913e+00]\n",
      " [-1.27761680e-01 -7.15729086e-01]\n",
      " [-7.17850909e-01 -6.57791656e-01]\n",
      " [            nan -7.44697800e-01]\n",
      " [-4.84980447e-01  1.24660453e-03]\n",
      " [ 6.21719468e-01  1.02637106e-01]\n",
      " [ 4.43110084e-01  1.44968234e+00]\n",
      " [-7.49503205e-01 -5.78127691e-01]\n",
      " [            nan -1.26613467e+00]\n",
      " [-3.88893120e-01  5.91840340e-02]\n",
      " [ 6.60154398e-01  7.25464473e-01]\n",
      " [ 1.58239422e-01  1.24660453e-03]\n",
      " [-4.60110786e-01 -2.08776577e-01]\n",
      " [-2.17066372e-01  1.24660453e-03]\n",
      " [-5.31328451e-01  2.90933752e-01]\n",
      " [            nan -8.46088302e-01]\n",
      " [ 1.27963505e+00  1.44968234e+00]\n",
      " [-6.08198313e-01 -7.01244728e-01]\n",
      " [ 1.52267946e+00  1.57279938e+00]\n",
      " [-9.41677858e-01 -7.22971264e-01]\n",
      " [-3.48197311e-01  7.25464473e-01]\n",
      " [ 3.78675053e-01  2.06526753e+00]\n",
      " [-2.26308401e-02  1.24660453e-03]\n",
      " [ 8.60242125e-01  1.24660453e-03]\n",
      " [ 1.27717565e-01  3.63355539e-01]\n",
      " [-1.76463755e+00 -1.44718913e+00]\n",
      " [-5.69763382e-01  9.42729834e-01]\n",
      " [ 1.57108983e-01  1.82301072e-01]\n",
      " [ 2.12633396e+00  1.25414352e+00]\n",
      " [ 6.69197911e-01  7.25464473e-01]\n",
      " [            nan -1.08508020e+00]\n",
      " [-3.95874271e-02  1.24660453e-03]\n",
      " [            nan -1.08508020e+00]\n",
      " [            nan -3.60862330e-01]\n",
      " [-6.76024661e-01  1.24660453e-03]\n",
      " [ 2.59320532e+00 -3.60862330e-01]\n",
      " [ 1.19804491e-01  3.48871182e-01]\n",
      " [-4.97613794e-02  7.83401903e-01]\n",
      " [-6.78285539e-01 -9.83689697e-01]\n",
      " [-9.83702622e-02  7.68917546e-01]\n",
      " [ 4.35197010e-01  9.35487655e-01]\n",
      " [-3.52719068e-01  5.51652185e-01]\n",
      " [-7.96981649e-01  7.25464473e-01]\n",
      " [-8.32025262e-01  1.24660453e-03]\n",
      " [-1.59507168e+00 -1.44718913e+00]\n",
      " [ 1.88894174e+00  7.25464473e-01]\n",
      " [ 2.92761679e-01 -3.24651436e-01]\n",
      " [ 4.91718967e-01  7.25464473e-01]\n",
      " [-4.57849908e-01  3.63355539e-01]\n",
      " [ 9.68764283e-01  1.50037759e+00]\n",
      " [            nan -1.08508020e+00]\n",
      " [            nan -8.67814838e-01]\n",
      " [ 3.07457388e-01 -5.66908250e-02]\n",
      " [            nan -4.98463725e-01]\n",
      " [-8.97590732e-01 -9.54720982e-01]\n",
      " [-8.02633844e-01 -3.60862330e-01]\n",
      " [-6.11589630e-01 -7.22971264e-01]\n",
      " [            nan -3.46377973e-01]\n",
      " [ 9.54068574e-01  8.70308047e-01]\n",
      " [-1.45150591e+00 -1.09956456e+00]\n",
      " [-7.73242427e-01 -7.22971264e-01]\n",
      " [            nan -7.22971264e-01]\n",
      " [ 1.65022057e-01 -5.92612048e-01]\n",
      " [-2.57762180e-01 -1.08508020e+00]\n",
      " [-1.23239923e-01 -1.21870433e-01]\n",
      " [            nan -1.08508020e+00]\n",
      " [            nan -7.22971264e-01]\n",
      " [-3.50458190e-01  1.82301072e-01]\n",
      " [-1.45263635e+00 -1.26613467e+00]\n",
      " [            nan -7.22971264e-01]\n",
      " [-8.15068675e-01 -7.22971264e-01]\n",
      " [-6.05937434e-01 -7.22971264e-01]\n",
      " [-9.26982149e-01 -1.79807863e-01]\n",
      " [-4.39762881e-01  3.63355539e-01]\n",
      " [ 1.46276619e+00  2.68085272e+00]\n",
      " [ 2.24163875e+00  1.44968234e+00]\n",
      " [ 6.43197811e-01  1.44968234e+00]\n",
      " [-5.57328552e-01 -5.05705904e-01]\n",
      " [-1.47072337e+00 -1.08508020e+00]\n",
      " [-3.07501502e-01 -1.18647070e+00]\n",
      " [            nan -9.90931876e-01]\n",
      " [-1.30907058e+00 -9.18510089e-01]\n",
      " [-1.56568026e+00 -7.22971264e-01]\n",
      " [-8.24112188e-01 -3.60862330e-01]\n",
      " [-9.30373467e-01 -7.22971264e-01]\n",
      " [-4.63502103e-01 -1.87050041e-01]\n",
      " [ 3.60588027e-01 -7.22971264e-01]\n",
      " [-1.79761880e-01 -7.22971264e-01]\n",
      " [ 9.59720769e-01  1.55107284e+00]\n",
      " [ 3.03068527e+00  1.44968234e+00]\n",
      " [ 4.11457788e-01  5.44410006e-01]\n",
      " [-9.00982049e-01 -2.81198364e-01]\n",
      " [-5.50545917e-01 -7.22971264e-01]\n",
      " [ 1.58040906e-02  3.63355539e-01]\n",
      " [            nan -3.60862330e-01]\n",
      " [-5.82198213e-01 -7.22971264e-01]\n",
      " [-8.53503605e-01 -7.22971264e-01]\n",
      " [-4.35241125e-01  1.24660453e-03]\n",
      " [ 3.57196710e-01  3.48871182e-01]\n",
      " [-6.78484055e-02 -5.49158976e-01]\n",
      " [ 1.16998245e+00  1.08757341e+00]\n",
      " [            nan -1.00541623e+00]\n",
      " [            nan -7.22971264e-01]\n",
      " [ 3.32912120e+00  5.07077169e+00]\n",
      " [-6.27415778e-01  1.17121464e-01]\n",
      " [-1.59507168e+00  1.55831502e+00]\n",
      " [ 1.18580860e+00  1.31605821e-01]\n",
      " [-5.13241425e-01  7.25464473e-01]\n",
      " [ 1.30450471e+00  8.09105701e-02]\n",
      " [-3.92284438e-01 -7.22971264e-01]\n",
      " [-7.77764183e-01 -7.22971264e-01]\n",
      " [-1.32941848e+00  7.25464473e-01]\n",
      " [ 1.50007068e+00  3.99566432e-01]\n",
      " [ 1.50233155e+00  4.93714755e-01]\n",
      " [ 2.22674453e-01  1.92042396e+00]\n",
      " [ 2.71190143e+00  3.63355539e-01]\n",
      " [ 2.04587426e-01  2.53600915e+00]\n",
      " [ 2.16929065e+00  1.24660453e-03]\n",
      " [-7.57614795e-02  1.44968234e+00]\n",
      " [-5.20222576e-02  3.63355539e-01]\n",
      " [ 1.02867756e+00 -7.22971264e-01]\n",
      " [-3.62893020e-01  3.63355539e-01]\n",
      " [ 1.96674352e-01  7.25464473e-01]\n",
      " [-6.40981048e-01 -1.08508020e+00]\n",
      " [-1.75240123e-01  8.63065869e-01]\n",
      " [ 8.00328851e-01 -3.17409258e-01]\n",
      " [-6.64720270e-01 -7.08486907e-01]\n",
      " [-5.40371965e-01  7.25464473e-01]\n",
      " [-1.56002807e+00 -1.12853327e+00]\n",
      " [            nan -7.22971264e-01]\n",
      " [ 2.45868306e+00  1.44968234e+00]\n",
      " [            nan -7.22971264e-01]\n",
      " [-8.87416779e-01 -7.22971264e-01]\n",
      " [-2.99588429e-01  7.25464473e-01]\n",
      " [            nan -7.15729086e-01]\n",
      " [            nan -7.22971264e-01]\n",
      " [-5.60719869e-01 -3.60862330e-01]\n",
      " [-9.38485057e-02  7.25464473e-01]\n",
      " [-5.52806795e-01  1.67816714e-01]\n",
      " [ 5.91197611e-01  2.98175931e-01]\n",
      " [ 1.96355072e+00  1.24660453e-03]\n",
      " [ 3.28935731e-01 -7.01244728e-01]\n",
      " [            nan -5.56401155e-01]\n",
      " [ 9.83459991e-01 -7.22971264e-01]\n",
      " [ 5.12066871e-01  1.56555720e+00]\n",
      " [ 3.04877229e+00  4.34655382e+00]\n",
      " [-9.14547319e-01 -3.60862330e-01]\n",
      " [ 7.69806995e-01  2.53600915e+00]\n",
      " [            nan -1.37476735e+00]\n",
      " [ 7.67546116e-01  1.24660453e-03]\n",
      " [            nan -1.08508020e+00]\n",
      " [-1.53968016e+00 -1.12853327e+00]\n",
      " [ 9.92503504e-01  6.64262127e-02]\n",
      " [            nan -5.78127691e-01]\n",
      " [-8.97590732e-01  3.48871182e-01]\n",
      " [-1.44472327e+00 -7.80908694e-01]\n",
      " [-6.08198313e-01  1.24660453e-03]\n",
      " [-8.97590732e-01 -1.02714277e+00]\n",
      " [-5.75415578e-01 -3.60862330e-01]\n",
      " [            nan -7.22971264e-01]\n",
      " [-1.02892019e-01  1.24660453e-03]\n",
      " [-9.13416880e-01 -2.01534399e-01]\n",
      " [ 8.58913170e-02 -8.56595397e-02]\n",
      " [ 2.99544314e-01 -7.22971264e-01]\n",
      " [-6.40981048e-01  1.24660453e-03]\n",
      " [            nan  2.83691573e-01]\n",
      " [            nan -1.10680673e+00]\n",
      " [-6.59068074e-01  1.24660453e-03]\n",
      " [            nan -1.26613467e+00]\n",
      " [            nan -1.44718913e+00]\n",
      " [ 1.29659163e+00 -1.32407210e+00]\n",
      " [ 1.63572337e+00  1.21069045e+00]\n",
      " [ 8.67024760e-01  2.11596278e+00]\n",
      " [ 6.57893520e-01 -7.22971264e-01]\n",
      " [ 1.48065470e-01 -7.22971264e-01]\n",
      " [-4.00197512e-01 -9.04025732e-01]\n",
      " [-2.91675355e-01  1.24660453e-03]]\n"
     ]
    }
   ],
   "source": [
    "print(df_scaled)"
   ]
  },
  {
   "cell_type": "markdown",
   "id": "aa541e6f",
   "metadata": {},
   "source": [
    "### z-score"
   ]
  },
  {
   "cell_type": "code",
   "execution_count": 24,
   "id": "055a0ade",
   "metadata": {},
   "outputs": [],
   "source": [
    "z_score=(df_minmax[1]-df_minmax[1].mean())/df_minmax[1].std()"
   ]
  },
  {
   "cell_type": "code",
   "execution_count": 25,
   "id": "853d8ff6",
   "metadata": {},
   "outputs": [
    {
     "name": "stdout",
     "output_type": "stream",
     "text": [
      "0     -1.436993\n",
      "1     -0.967217\n",
      "2      0.362610\n",
      "3      0.225291\n",
      "4      0.442111\n",
      "         ...   \n",
      "239    2.111622\n",
      "240   -0.721488\n",
      "241   -0.721488\n",
      "242   -0.902171\n",
      "243    0.001244\n",
      "Name: 1, Length: 244, dtype: float64\n"
     ]
    }
   ],
   "source": [
    "print(z_score)"
   ]
  },
  {
   "cell_type": "code",
   "execution_count": null,
   "id": "11a1f933",
   "metadata": {},
   "outputs": [],
   "source": []
  }
 ],
 "metadata": {
  "kernelspec": {
   "display_name": "Python 3 (ipykernel)",
   "language": "python",
   "name": "python3"
  },
  "language_info": {
   "codemirror_mode": {
    "name": "ipython",
    "version": 3
   },
   "file_extension": ".py",
   "mimetype": "text/x-python",
   "name": "python",
   "nbconvert_exporter": "python",
   "pygments_lexer": "ipython3",
   "version": "3.8.7"
  }
 },
 "nbformat": 4,
 "nbformat_minor": 5
}
