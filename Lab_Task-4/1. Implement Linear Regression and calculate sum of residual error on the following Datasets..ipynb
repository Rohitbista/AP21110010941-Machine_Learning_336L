{
 "cells": [
  {
   "cell_type": "code",
   "execution_count": 20,
   "id": "9c547331",
   "metadata": {},
   "outputs": [],
   "source": [
    "import numpy as np\n",
    "import matplotlib.pyplot as plt"
   ]
  },
  {
   "cell_type": "code",
   "execution_count": 3,
   "id": "74a16968",
   "metadata": {},
   "outputs": [],
   "source": [
    "x = np.array([0, 1, 2, 3, 4, 5, 6, 7, 8, 9])\n",
    "y = np.array([1, 3, 2, 5, 7, 8, 8, 9, 10, 12])"
   ]
  },
  {
   "cell_type": "markdown",
   "id": "18892dfc",
   "metadata": {},
   "source": [
    "### SSR & R_squared"
   ]
  },
  {
   "cell_type": "code",
   "execution_count": 4,
   "id": "8413fd18",
   "metadata": {},
   "outputs": [],
   "source": [
    "x_mean = 0\n",
    "x_sum = 0\n",
    "for i in range(len(x)):\n",
    "    x_sum = x[i] + x_sum\n",
    "x_mean = x_sum / (len(x))"
   ]
  },
  {
   "cell_type": "code",
   "execution_count": 5,
   "id": "b7ce59d3",
   "metadata": {},
   "outputs": [],
   "source": [
    "y_mean = 0\n",
    "y_sum = 0\n",
    "for i in range(len(y)):\n",
    "    y_sum = y[i] + y_sum\n",
    "y_mean = y_sum / (len(y))"
   ]
  },
  {
   "cell_type": "code",
   "execution_count": 6,
   "id": "104b7913",
   "metadata": {},
   "outputs": [
    {
     "name": "stdout",
     "output_type": "stream",
     "text": [
      "4.5 6.5\n"
     ]
    }
   ],
   "source": [
    "print(x_mean, y_mean)"
   ]
  },
  {
   "cell_type": "code",
   "execution_count": 7,
   "id": "b1362720",
   "metadata": {},
   "outputs": [],
   "source": [
    "upper_val_of_b1 = 0\n",
    "lower_val_of_b1 = 0\n",
    "for i in range(len(x)):\n",
    "    upper_val_of_b1 = (x[i] - x_mean) * (y[i] - y_mean) + upper_val_of_b1\n",
    "    lower_val_of_b1 = (x[i] - x_mean)**2 + lower_val_of_b1"
   ]
  },
  {
   "cell_type": "code",
   "execution_count": 8,
   "id": "c437a81e",
   "metadata": {},
   "outputs": [],
   "source": [
    "B1 = upper_val_of_b1 / lower_val_of_b1"
   ]
  },
  {
   "cell_type": "code",
   "execution_count": 9,
   "id": "70cbbd58",
   "metadata": {},
   "outputs": [],
   "source": [
    "B0 = y_mean - B1 * x_mean"
   ]
  },
  {
   "cell_type": "code",
   "execution_count": 10,
   "id": "d26de006",
   "metadata": {},
   "outputs": [],
   "source": [
    "SSR = 0\n",
    "for i in range(len(x)):\n",
    "    SSR += (y[i] - (B0 + B1 * x[i]))**2"
   ]
  },
  {
   "cell_type": "code",
   "execution_count": 14,
   "id": "66f8be64",
   "metadata": {},
   "outputs": [
    {
     "name": "stdout",
     "output_type": "stream",
     "text": [
      "sum of squared residuals (SSR):  5.624242424242421\n"
     ]
    }
   ],
   "source": [
    "print(\"sum of squared residuals (SSR): \", SSR)"
   ]
  },
  {
   "cell_type": "code",
   "execution_count": 13,
   "id": "595ff822",
   "metadata": {},
   "outputs": [
    {
     "name": "stdout",
     "output_type": "stream",
     "text": [
      "118.5\n"
     ]
    }
   ],
   "source": [
    "SST = 0\n",
    "for i in range(len(y)):\n",
    "    SST += (y[i] - y_mean)**2\n",
    "print(SST)"
   ]
  },
  {
   "cell_type": "code",
   "execution_count": 17,
   "id": "38d0f844",
   "metadata": {},
   "outputs": [
    {
     "name": "stdout",
     "output_type": "stream",
     "text": [
      "sum of squared estimate of errors (SSE):  112.87575757575758\n"
     ]
    }
   ],
   "source": [
    "SSE = SST - SSR\n",
    "print(\"sum of squared estimate of errors (SSE): \", SSE)"
   ]
  },
  {
   "cell_type": "code",
   "execution_count": 16,
   "id": "999d3eda",
   "metadata": {},
   "outputs": [
    {
     "name": "stdout",
     "output_type": "stream",
     "text": [
      "0.047461961386012\n"
     ]
    }
   ],
   "source": [
    "R_squared = SSR / SST\n",
    "print(R_squared)"
   ]
  },
  {
   "cell_type": "code",
   "execution_count": 19,
   "id": "a7dd6100",
   "metadata": {},
   "outputs": [],
   "source": [
    "def plot_regression_line(x, y, b0, b1):\n",
    "    plt.scatter(x, y, color = \"m\", marker = \"o\", s = 30)\n",
    "    y_pred = b0 + b1 * x\n",
    "    plt.plot(x, y_pred, color = \"g\")\n",
    "    plt.xlabel('x')\n",
    "    plt.ylabel('y')\n",
    "    plt.show()"
   ]
  },
  {
   "cell_type": "code",
   "execution_count": 21,
   "id": "a01b6e70",
   "metadata": {},
   "outputs": [
    {
     "data": {
      "image/png": "[encoded data removed]",
      "text/plain": [
       "<Figure size 640x480 with 1 Axes>"
      ]
     },
     "metadata": {},
     "output_type": "display_data"
    }
   ],
   "source": [
    "plot_regression_line(x, y, B0, B1)"
   ]
  },
  {
   "cell_type": "markdown",
   "id": "7d52a930",
   "metadata": {},
   "source": [
    "### Full Batch Gradient Descent"
   ]
  },
  {
   "cell_type": "code",
   "execution_count": 18,
   "id": "92564635",
   "metadata": {},
   "outputs": [],
   "source": [
    "def full_batch_gradient_descent(x, y, learning_rate=0.01, epochs=1000, tolerance=1e-6):\n",
    "    n = len(x)\n",
    "    # Initialize coefficients\n",
    "    b_0 = 0\n",
    "    b_1 = 0\n",
    "    prev_loss = float('inf')\n",
    "\n",
    "    for epoch in range(epochs):\n",
    "        # Compute predictions\n",
    "        y_pred = b_0 + b_1 * x\n",
    "\n",
    "        # Compute gradients\n",
    "        gradient_b0 = (-2/n) * np.sum(y - y_pred)\n",
    "        gradient_b1 = (-2/n) * np.sum((y - y_pred) * x)\n",
    "\n",
    "        # Update coefficients\n",
    "        b_0 -= learning_rate * gradient_b0\n",
    "        b_1 -= learning_rate * gradient_b1\n",
    "\n",
    "        # Compute loss\n",
    "        loss = np.sum((y - y_pred)**2)\n",
    "\n",
    "        # Check for convergence\n",
    "        if abs(prev_loss - loss) < tolerance:\n",
    "            break\n",
    "\n",
    "        prev_loss = loss\n",
    "\n",
    "    return b_0, b_1, loss"
   ]
  },
  {
   "cell_type": "code",
   "execution_count": 22,
   "id": "d4cafd91",
   "metadata": {},
   "outputs": [],
   "source": [
    "B0_new, B1_new, loss = full_batch_gradient_descent(x, y)"
   ]
  },
  {
   "cell_type": "code",
   "execution_count": 24,
   "id": "699c7fa7",
   "metadata": {},
   "outputs": [
    {
     "name": "stdout",
     "output_type": "stream",
     "text": [
      "1.2363636363636363 1.1696969696969697\n",
      "1.230898466943318 1.170568526128318\n"
     ]
    }
   ],
   "source": [
    "print(B0, B1)\n",
    "print(B0_new, B1_new)"
   ]
  },
  {
   "cell_type": "code",
   "execution_count": 23,
   "id": "6887af83",
   "metadata": {},
   "outputs": [
    {
     "data": {
      "image/png": "[encoded data removed]",
      "text/plain": [
       "<Figure size 640x480 with 1 Axes>"
      ]
     },
     "metadata": {},
     "output_type": "display_data"
    }
   ],
   "source": [
    "plot_regression_line(x, y, B0_new, B1_new)"
   ]
  },
  {
   "cell_type": "code",
   "execution_count": 25,
   "id": "4336a7cd",
   "metadata": {},
   "outputs": [],
   "source": [
    "SSR_FullGD = 0\n",
    "for i in range(len(x)):\n",
    "    SSR_FullGD += (y[i] - (B0_new + B1_new * x[i]))**2"
   ]
  },
  {
   "cell_type": "code",
   "execution_count": 27,
   "id": "a084f1fd",
   "metadata": {},
   "outputs": [
    {
     "name": "stdout",
     "output_type": "stream",
     "text": [
      "Comparing R_rquared values:\n",
      "0.047461961386012\n",
      "0.047462691187468035\n"
     ]
    }
   ],
   "source": [
    "R_squared_FullGD = SSR_FullGD / SST\n",
    "print(\"Comparing R_rquared values:\")\n",
    "print(R_squared)\n",
    "print(R_squared_FullGD)"
   ]
  },
  {
   "cell_type": "code",
   "execution_count": 31,
   "id": "d2796ad9",
   "metadata": {},
   "outputs": [
    {
     "name": "stdout",
     "output_type": "stream",
     "text": [
      "112.87575757575758 112.87567109428504\n"
     ]
    }
   ],
   "source": [
    "SSE_FullGD = SST - SSR_FullGD\n",
    "print(SSE, SSE_FullGD)"
   ]
  },
  {
   "cell_type": "markdown",
   "id": "c41b999a",
   "metadata": {},
   "source": [
    "### Stochastic Gradient Descent"
   ]
  },
  {
   "cell_type": "code",
   "execution_count": 28,
   "id": "cc58d665",
   "metadata": {},
   "outputs": [],
   "source": [
    "def stochastic_gradient_descent(x, y, learning_rate=0.01, epochs=1000, tolerance=1e-6):\n",
    "    n = len(x)\n",
    "    # Initialize coefficients\n",
    "    b0 = 0\n",
    "    b1 = 0\n",
    "    prev_loss = float('inf')\n",
    "\n",
    "    for epoch in range(epochs):\n",
    "        # Shuffle the data\n",
    "        indices = np.random.permutation(n)\n",
    "        x_shuffled = x[indices]\n",
    "        y_shuffled = y[indices]\n",
    "\n",
    "        for i in range(n):\n",
    "            # Compute prediction for a single data point\n",
    "            y_pred = b0 + b1*x_shuffled[i]\n",
    "\n",
    "            # Compute gradients\n",
    "            gradient_b0 = -2 * (y_shuffled[i] - y_pred)\n",
    "            gradient_b1 = -2 * (y_shuffled[i] - y_pred) * x_shuffled[i]\n",
    "\n",
    "            # Update coefficients\n",
    "            b0 -= learning_rate * gradient_b0\n",
    "            b1 -= learning_rate * gradient_b1\n",
    "\n",
    "        # Compute loss\n",
    "        y_pred = b0 + b1*x\n",
    "        loss = np.sum((y - y_pred)**2)\n",
    "\n",
    "        # Check for convergence\n",
    "        if abs(prev_loss - loss) < tolerance:\n",
    "            break\n",
    "\n",
    "        prev_loss = loss\n",
    "\n",
    "    return b0, b1, loss"
   ]
  },
  {
   "cell_type": "code",
   "execution_count": 29,
   "id": "b88b626a",
   "metadata": {},
   "outputs": [
    {
     "name": "stdout",
     "output_type": "stream",
     "text": [
      "1.2742735741156586 1.2285735217041969\n"
     ]
    }
   ],
   "source": [
    "B0_SGD, B1_SGD, loss_SGD = stochastic_gradient_descent(x, y)\n",
    "print(B0_SGD, B1_SGD)"
   ]
  },
  {
   "cell_type": "code",
   "execution_count": 30,
   "id": "b2e273aa",
   "metadata": {},
   "outputs": [],
   "source": [
    "SSR_SGD = 0\n",
    "for i in range(len(x)):\n",
    "    SSR_SGD += (y[i] - (B0_SGD + B1_SGD * x[i]))**2"
   ]
  },
  {
   "cell_type": "code",
   "execution_count": 32,
   "id": "ac05aa64",
   "metadata": {},
   "outputs": [
    {
     "name": "stdout",
     "output_type": "stream",
     "text": [
      "Comparing R_rquared values:\n",
      "0.047461961386012\n",
      "0.05761546348715919\n"
     ]
    }
   ],
   "source": [
    "R_squared_SGD = SSR_SGD / SST\n",
    "print(\"Comparing R_rquared values:\")\n",
    "print(R_squared)\n",
    "print(R_squared_SGD)"
   ]
  },
  {
   "cell_type": "code",
   "execution_count": 33,
   "id": "dc0aea39",
   "metadata": {},
   "outputs": [
    {
     "name": "stdout",
     "output_type": "stream",
     "text": [
      "112.87575757575758 111.67256757677164\n"
     ]
    }
   ],
   "source": [
    "SSE_SGD = SST - SSR_SGD\n",
    "print(SSE, SSE_SGD)"
   ]
  },
  {
   "cell_type": "code",
   "execution_count": 34,
   "id": "13ce67fd",
   "metadata": {},
   "outputs": [
    {
     "name": "stdout",
     "output_type": "stream",
     "text": [
      "R_squared and SSE values: \n",
      "Normal:  0.047461961386012     112.87575757575758\n",
      "Full Gradient Descent:  0.047462691187468035     112.87567109428504\n",
      "Stochastic Gradient Descent:  0.05761546348715919     111.67256757677164\n"
     ]
    }
   ],
   "source": [
    "print(\"R_squared and SSE values: \")\n",
    "print(\"Normal: \", R_squared, \"   \", SSE)\n",
    "print(\"Full Gradient Descent: \", R_squared_FullGD, \"   \", SSE_FullGD)\n",
    "print(\"Stochastic Gradient Descent: \", R_squared_SGD, \"   \", SSE_SGD)"
   ]
  },
  {
   "cell_type": "code",
   "execution_count": null,
   "id": "0e0855ca",
   "metadata": {},
   "outputs": [],
   "source": []
  }
 ],
 "metadata": {
  "kernelspec": {
   "display_name": "Python 3 (ipykernel)",
   "language": "python",
   "name": "python3"
  },
  "language_info": {
   "codemirror_mode": {
    "name": "ipython",
    "version": 3
   },
   "file_extension": ".py",
   "mimetype": "text/x-python",
   "name": "python",
   "nbconvert_exporter": "python",
   "pygments_lexer": "ipython3",
   "version": "3.8.7"
  }
 },
 "nbformat": 4,
 "nbformat_minor": 5
}
