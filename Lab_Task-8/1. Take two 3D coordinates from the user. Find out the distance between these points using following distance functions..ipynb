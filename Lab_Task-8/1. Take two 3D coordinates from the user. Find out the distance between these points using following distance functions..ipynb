{
 "cells": [
  {
   "cell_type": "code",
   "execution_count": 9,
   "id": "46b30fa3",
   "metadata": {},
   "outputs": [],
   "source": [
    "def minkowski_distance(x, y, q):\n",
    "    return sum(abs(x[i] - y[i]) ** q for i in range(len(x))) ** (1 / q)"
   ]
  },
  {
   "cell_type": "code",
   "execution_count": 10,
   "id": "de03e52b",
   "metadata": {},
   "outputs": [
    {
     "name": "stdout",
     "output_type": "stream",
     "text": [
      "Enter coordinates for the first point:\n",
      "Enter x1: 1\n",
      "Enter x2: 2\n",
      "Enter x3: 3\n",
      "\n",
      "Enter coordinates for the second point:\n",
      "Enter y1: 4\n",
      "Enter y2: 5\n",
      "Enter y3: 6\n"
     ]
    }
   ],
   "source": [
    "# Taking input for the first 3D coordinate\n",
    "print(\"Enter coordinates for the first point:\")\n",
    "x = []\n",
    "for i in range(3):\n",
    "    x.append(float(input(f\"Enter x{i + 1}: \")))\n",
    "\n",
    "# Taking input for the second 3D coordinate\n",
    "print(\"\\nEnter coordinates for the second point:\")\n",
    "y = []\n",
    "for i in range(3):\n",
    "    y.append(float(input(f\"Enter y{i + 1}: \")))"
   ]
  },
  {
   "cell_type": "code",
   "execution_count": 12,
   "id": "4b382340",
   "metadata": {},
   "outputs": [
    {
     "name": "stdout",
     "output_type": "stream",
     "text": [
      "\n",
      "The Euclidean distance between the two points is: 5.196152422706632\n",
      "\n",
      "The Manhattan distance between the two points is: 9.0\n",
      "\n",
      "Enter the value of q for Minkowski distance: 77\n",
      "\n",
      "The Minkowski distance between the two points is: 3.0431098841476354\n"
     ]
    }
   ],
   "source": [
    "Euclidean_distance = minkowski_distance(x, y, 2)\n",
    "\n",
    "Manhattan_distance = minkowski_distance(x, y, 1)\n",
    "\n",
    "print(f\"\\nThe Euclidean distance between the two points is: {Euclidean_distance}\")\n",
    "\n",
    "print(f\"\\nThe Manhattan distance between the two points is: {Manhattan_distance}\")\n",
    "\n",
    "# Taking input for the value of p\n",
    "q = float(input(\"\\nEnter the value of q for Minkowski distance: \"))\n",
    "\n",
    "# Calculating the Minkowski distance\n",
    "Minkowski_distance = minkowski_distance(x, y, q)\n",
    "\n",
    "print(f\"\\nThe Minkowski distance between the two points is: {Minkowski_distance}\")"
   ]
  },
  {
   "cell_type": "code",
   "execution_count": null,
   "id": "51543b53",
   "metadata": {},
   "outputs": [],
   "source": []
  }
 ],
 "metadata": {
  "kernelspec": {
   "display_name": "Python 3 (ipykernel)",
   "language": "python",
   "name": "python3"
  },
  "language_info": {
   "codemirror_mode": {
    "name": "ipython",
    "version": 3
   },
   "file_extension": ".py",
   "mimetype": "text/x-python",
   "name": "python",
   "nbconvert_exporter": "python",
   "pygments_lexer": "ipython3",
   "version": "3.8.7"
  }
 },
 "nbformat": 4,
 "nbformat_minor": 5
}
