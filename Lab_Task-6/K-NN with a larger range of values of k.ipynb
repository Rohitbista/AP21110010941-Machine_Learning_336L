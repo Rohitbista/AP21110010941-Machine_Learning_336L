{
 "cells": [
  {
   "cell_type": "code",
   "execution_count": 1,
   "id": "95bb6bc5",
   "metadata": {},
   "outputs": [],
   "source": [
    "import pandas as pd"
   ]
  },
  {
   "cell_type": "code",
   "execution_count": 2,
   "id": "1d3d96c2",
   "metadata": {},
   "outputs": [],
   "source": [
    "df = pd.read_csv(\"C:/123/SRMAP/Semester 6/Machine Learning Lab/Lab_Task-6/Diabetes Binary Classification.csv\")"
   ]
  },
  {
   "cell_type": "code",
   "execution_count": 3,
   "id": "9610bd70",
   "metadata": {},
   "outputs": [
    {
     "data": {
      "text/html": [
       "<div>\n",
       "<style scoped>\n",
       "    .dataframe tbody tr th:only-of-type {\n",
       "        vertical-align: middle;\n",
       "    }\n",
       "\n",
       "    .dataframe tbody tr th {\n",
       "        vertical-align: top;\n",
       "    }\n",
       "\n",
       "    .dataframe thead th {\n",
       "        text-align: right;\n",
       "    }\n",
       "</style>\n",
       "<table border=\"1\" class=\"dataframe\">\n",
       "  <thead>\n",
       "    <tr style=\"text-align: right;\">\n",
       "      <th></th>\n",
       "      <th>Number of times pregnant</th>\n",
       "      <th>Plasma glucose concentration a 2 hours in an oral glucose tolerance test</th>\n",
       "      <th>Diastolic blood pressure (mm Hg)</th>\n",
       "      <th>Triceps skin fold thickness (mm)</th>\n",
       "      <th>2-Hour serum insulin (mu U/ml)</th>\n",
       "      <th>Body mass index (weight in kg/(height in m)^2)</th>\n",
       "      <th>Diabetes pedigree function</th>\n",
       "      <th>Age (years)</th>\n",
       "      <th>Class variable (0 or 1)</th>\n",
       "    </tr>\n",
       "  </thead>\n",
       "  <tbody>\n",
       "    <tr>\n",
       "      <th>0</th>\n",
       "      <td>6</td>\n",
       "      <td>148</td>\n",
       "      <td>72</td>\n",
       "      <td>35</td>\n",
       "      <td>0</td>\n",
       "      <td>33.6</td>\n",
       "      <td>0.627</td>\n",
       "      <td>50</td>\n",
       "      <td>1</td>\n",
       "    </tr>\n",
       "    <tr>\n",
       "      <th>1</th>\n",
       "      <td>1</td>\n",
       "      <td>85</td>\n",
       "      <td>66</td>\n",
       "      <td>29</td>\n",
       "      <td>0</td>\n",
       "      <td>26.6</td>\n",
       "      <td>0.351</td>\n",
       "      <td>31</td>\n",
       "      <td>0</td>\n",
       "    </tr>\n",
       "    <tr>\n",
       "      <th>2</th>\n",
       "      <td>8</td>\n",
       "      <td>183</td>\n",
       "      <td>64</td>\n",
       "      <td>0</td>\n",
       "      <td>0</td>\n",
       "      <td>23.3</td>\n",
       "      <td>0.672</td>\n",
       "      <td>32</td>\n",
       "      <td>1</td>\n",
       "    </tr>\n",
       "    <tr>\n",
       "      <th>3</th>\n",
       "      <td>1</td>\n",
       "      <td>89</td>\n",
       "      <td>66</td>\n",
       "      <td>23</td>\n",
       "      <td>94</td>\n",
       "      <td>28.1</td>\n",
       "      <td>0.167</td>\n",
       "      <td>21</td>\n",
       "      <td>0</td>\n",
       "    </tr>\n",
       "    <tr>\n",
       "      <th>4</th>\n",
       "      <td>0</td>\n",
       "      <td>137</td>\n",
       "      <td>40</td>\n",
       "      <td>35</td>\n",
       "      <td>168</td>\n",
       "      <td>43.1</td>\n",
       "      <td>2.288</td>\n",
       "      <td>33</td>\n",
       "      <td>1</td>\n",
       "    </tr>\n",
       "  </tbody>\n",
       "</table>\n",
       "</div>"
      ],
      "text/plain": [
       "   Number of times pregnant   \n",
       "0                         6  \\\n",
       "1                         1   \n",
       "2                         8   \n",
       "3                         1   \n",
       "4                         0   \n",
       "\n",
       "   Plasma glucose concentration a 2 hours in an oral glucose tolerance test   \n",
       "0                                                148                         \\\n",
       "1                                                 85                          \n",
       "2                                                183                          \n",
       "3                                                 89                          \n",
       "4                                                137                          \n",
       "\n",
       "   Diastolic blood pressure (mm Hg)  Triceps skin fold thickness (mm)   \n",
       "0                                72                                35  \\\n",
       "1                                66                                29   \n",
       "2                                64                                 0   \n",
       "3                                66                                23   \n",
       "4                                40                                35   \n",
       "\n",
       "   2-Hour serum insulin (mu U/ml)   \n",
       "0                               0  \\\n",
       "1                               0   \n",
       "2                               0   \n",
       "3                              94   \n",
       "4                             168   \n",
       "\n",
       "   Body mass index (weight in kg/(height in m)^2)  Diabetes pedigree function   \n",
       "0                                            33.6                       0.627  \\\n",
       "1                                            26.6                       0.351   \n",
       "2                                            23.3                       0.672   \n",
       "3                                            28.1                       0.167   \n",
       "4                                            43.1                       2.288   \n",
       "\n",
       "   Age (years)  Class variable (0 or 1)  \n",
       "0           50                        1  \n",
       "1           31                        0  \n",
       "2           32                        1  \n",
       "3           21                        0  \n",
       "4           33                        1  "
      ]
     },
     "execution_count": 3,
     "metadata": {},
     "output_type": "execute_result"
    }
   ],
   "source": [
    "df.head()"
   ]
  },
  {
   "cell_type": "code",
   "execution_count": 4,
   "id": "3aa85357",
   "metadata": {},
   "outputs": [
    {
     "data": {
      "text/plain": [
       "Class variable (0 or 1)\n",
       "0    500\n",
       "1    268\n",
       "Name: count, dtype: int64"
      ]
     },
     "execution_count": 4,
     "metadata": {},
     "output_type": "execute_result"
    }
   ],
   "source": [
    "df['Class variable (0 or 1)'].value_counts()"
   ]
  },
  {
   "cell_type": "code",
   "execution_count": 5,
   "id": "a18c0f11",
   "metadata": {},
   "outputs": [
    {
     "data": {
      "text/plain": [
       "(500, 9)"
      ]
     },
     "execution_count": 5,
     "metadata": {},
     "output_type": "execute_result"
    }
   ],
   "source": [
    "df_0 = df[df['Class variable (0 or 1)']==0]\n",
    "df_0.shape"
   ]
  },
  {
   "cell_type": "code",
   "execution_count": 6,
   "id": "b2c267fc",
   "metadata": {},
   "outputs": [
    {
     "data": {
      "text/plain": [
       "(268, 9)"
      ]
     },
     "execution_count": 6,
     "metadata": {},
     "output_type": "execute_result"
    }
   ],
   "source": [
    "df_1 = df[df['Class variable (0 or 1)']==1]\n",
    "df_1.shape"
   ]
  },
  {
   "cell_type": "code",
   "execution_count": 7,
   "id": "ba16b23c",
   "metadata": {},
   "outputs": [
    {
     "data": {
      "text/plain": [
       "(268, 9)"
      ]
     },
     "execution_count": 7,
     "metadata": {},
     "output_type": "execute_result"
    }
   ],
   "source": [
    "df_0_downsampled = df_0.sample(df_1.shape[0])\n",
    "df_0_downsampled.shape"
   ]
  },
  {
   "cell_type": "code",
   "execution_count": 8,
   "id": "e5009e0f",
   "metadata": {},
   "outputs": [
    {
     "data": {
      "text/plain": [
       "(536, 9)"
      ]
     },
     "execution_count": 8,
     "metadata": {},
     "output_type": "execute_result"
    }
   ],
   "source": [
    "df_balanced = pd.concat([df_0_downsampled, df_1])\n",
    "df_balanced.shape"
   ]
  },
  {
   "cell_type": "code",
   "execution_count": 9,
   "id": "1ddd9783",
   "metadata": {},
   "outputs": [
    {
     "data": {
      "text/plain": [
       "Class variable (0 or 1)\n",
       "0    268\n",
       "1    268\n",
       "Name: count, dtype: int64"
      ]
     },
     "execution_count": 9,
     "metadata": {},
     "output_type": "execute_result"
    }
   ],
   "source": [
    "df_balanced['Class variable (0 or 1)'].value_counts()"
   ]
  },
  {
   "cell_type": "code",
   "execution_count": 10,
   "id": "05c1a513",
   "metadata": {},
   "outputs": [],
   "source": [
    "df_balanced_features = df_balanced.iloc[:, :-1]  # Features"
   ]
  },
  {
   "cell_type": "code",
   "execution_count": 11,
   "id": "6a3a63fd",
   "metadata": {},
   "outputs": [],
   "source": [
    "from sklearn.model_selection import train_test_split\n",
    "\n",
    "X_train, X_test, y_train, y_test = train_test_split(df_balanced_features,df_balanced['Class variable (0 or 1)'], test_size=0.3, stratify=df_balanced['Class variable (0 or 1)'])"
   ]
  },
  {
   "cell_type": "code",
   "execution_count": 12,
   "id": "40770ce0",
   "metadata": {},
   "outputs": [
    {
     "data": {
      "text/html": [
       "<div>\n",
       "<style scoped>\n",
       "    .dataframe tbody tr th:only-of-type {\n",
       "        vertical-align: middle;\n",
       "    }\n",
       "\n",
       "    .dataframe tbody tr th {\n",
       "        vertical-align: top;\n",
       "    }\n",
       "\n",
       "    .dataframe thead th {\n",
       "        text-align: right;\n",
       "    }\n",
       "</style>\n",
       "<table border=\"1\" class=\"dataframe\">\n",
       "  <thead>\n",
       "    <tr style=\"text-align: right;\">\n",
       "      <th></th>\n",
       "      <th>Number of times pregnant</th>\n",
       "      <th>Plasma glucose concentration a 2 hours in an oral glucose tolerance test</th>\n",
       "      <th>Diastolic blood pressure (mm Hg)</th>\n",
       "      <th>Triceps skin fold thickness (mm)</th>\n",
       "      <th>2-Hour serum insulin (mu U/ml)</th>\n",
       "      <th>Body mass index (weight in kg/(height in m)^2)</th>\n",
       "      <th>Diabetes pedigree function</th>\n",
       "      <th>Age (years)</th>\n",
       "    </tr>\n",
       "  </thead>\n",
       "  <tbody>\n",
       "    <tr>\n",
       "      <th>441</th>\n",
       "      <td>2</td>\n",
       "      <td>83</td>\n",
       "      <td>66</td>\n",
       "      <td>23</td>\n",
       "      <td>50</td>\n",
       "      <td>32.2</td>\n",
       "      <td>0.497</td>\n",
       "      <td>22</td>\n",
       "    </tr>\n",
       "    <tr>\n",
       "      <th>70</th>\n",
       "      <td>2</td>\n",
       "      <td>100</td>\n",
       "      <td>66</td>\n",
       "      <td>20</td>\n",
       "      <td>90</td>\n",
       "      <td>32.9</td>\n",
       "      <td>0.867</td>\n",
       "      <td>28</td>\n",
       "    </tr>\n",
       "    <tr>\n",
       "      <th>293</th>\n",
       "      <td>1</td>\n",
       "      <td>128</td>\n",
       "      <td>48</td>\n",
       "      <td>45</td>\n",
       "      <td>194</td>\n",
       "      <td>40.5</td>\n",
       "      <td>0.613</td>\n",
       "      <td>24</td>\n",
       "    </tr>\n",
       "    <tr>\n",
       "      <th>344</th>\n",
       "      <td>8</td>\n",
       "      <td>95</td>\n",
       "      <td>72</td>\n",
       "      <td>0</td>\n",
       "      <td>0</td>\n",
       "      <td>36.8</td>\n",
       "      <td>0.485</td>\n",
       "      <td>57</td>\n",
       "    </tr>\n",
       "    <tr>\n",
       "      <th>613</th>\n",
       "      <td>6</td>\n",
       "      <td>105</td>\n",
       "      <td>80</td>\n",
       "      <td>28</td>\n",
       "      <td>0</td>\n",
       "      <td>32.5</td>\n",
       "      <td>0.878</td>\n",
       "      <td>26</td>\n",
       "    </tr>\n",
       "  </tbody>\n",
       "</table>\n",
       "</div>"
      ],
      "text/plain": [
       "     Number of times pregnant   \n",
       "441                         2  \\\n",
       "70                          2   \n",
       "293                         1   \n",
       "344                         8   \n",
       "613                         6   \n",
       "\n",
       "     Plasma glucose concentration a 2 hours in an oral glucose tolerance test   \n",
       "441                                                 83                         \\\n",
       "70                                                 100                          \n",
       "293                                                128                          \n",
       "344                                                 95                          \n",
       "613                                                105                          \n",
       "\n",
       "     Diastolic blood pressure (mm Hg)  Triceps skin fold thickness (mm)   \n",
       "441                                66                                23  \\\n",
       "70                                 66                                20   \n",
       "293                                48                                45   \n",
       "344                                72                                 0   \n",
       "613                                80                                28   \n",
       "\n",
       "     2-Hour serum insulin (mu U/ml)   \n",
       "441                              50  \\\n",
       "70                               90   \n",
       "293                             194   \n",
       "344                               0   \n",
       "613                               0   \n",
       "\n",
       "     Body mass index (weight in kg/(height in m)^2)   \n",
       "441                                            32.2  \\\n",
       "70                                             32.9   \n",
       "293                                            40.5   \n",
       "344                                            36.8   \n",
       "613                                            32.5   \n",
       "\n",
       "     Diabetes pedigree function  Age (years)  \n",
       "441                       0.497           22  \n",
       "70                        0.867           28  \n",
       "293                       0.613           24  \n",
       "344                       0.485           57  \n",
       "613                       0.878           26  "
      ]
     },
     "execution_count": 12,
     "metadata": {},
     "output_type": "execute_result"
    }
   ],
   "source": [
    "X_train.head()"
   ]
  },
  {
   "cell_type": "code",
   "execution_count": 13,
   "id": "6ee5d5aa",
   "metadata": {},
   "outputs": [
    {
     "data": {
      "text/html": [
       "<div>\n",
       "<style scoped>\n",
       "    .dataframe tbody tr th:only-of-type {\n",
       "        vertical-align: middle;\n",
       "    }\n",
       "\n",
       "    .dataframe tbody tr th {\n",
       "        vertical-align: top;\n",
       "    }\n",
       "\n",
       "    .dataframe thead th {\n",
       "        text-align: right;\n",
       "    }\n",
       "</style>\n",
       "<table border=\"1\" class=\"dataframe\">\n",
       "  <thead>\n",
       "    <tr style=\"text-align: right;\">\n",
       "      <th></th>\n",
       "      <th>Number of times pregnant</th>\n",
       "      <th>Plasma glucose concentration a 2 hours in an oral glucose tolerance test</th>\n",
       "      <th>Diastolic blood pressure (mm Hg)</th>\n",
       "      <th>Triceps skin fold thickness (mm)</th>\n",
       "      <th>2-Hour serum insulin (mu U/ml)</th>\n",
       "      <th>Body mass index (weight in kg/(height in m)^2)</th>\n",
       "      <th>Diabetes pedigree function</th>\n",
       "      <th>Age (years)</th>\n",
       "    </tr>\n",
       "  </thead>\n",
       "  <tbody>\n",
       "    <tr>\n",
       "      <th>375</th>\n",
       "      <td>12</td>\n",
       "      <td>140</td>\n",
       "      <td>82</td>\n",
       "      <td>43</td>\n",
       "      <td>325</td>\n",
       "      <td>39.2</td>\n",
       "      <td>0.528</td>\n",
       "      <td>58</td>\n",
       "    </tr>\n",
       "    <tr>\n",
       "      <th>621</th>\n",
       "      <td>2</td>\n",
       "      <td>92</td>\n",
       "      <td>76</td>\n",
       "      <td>20</td>\n",
       "      <td>0</td>\n",
       "      <td>24.2</td>\n",
       "      <td>1.698</td>\n",
       "      <td>28</td>\n",
       "    </tr>\n",
       "    <tr>\n",
       "      <th>187</th>\n",
       "      <td>1</td>\n",
       "      <td>128</td>\n",
       "      <td>98</td>\n",
       "      <td>41</td>\n",
       "      <td>58</td>\n",
       "      <td>32.0</td>\n",
       "      <td>1.321</td>\n",
       "      <td>33</td>\n",
       "    </tr>\n",
       "    <tr>\n",
       "      <th>580</th>\n",
       "      <td>0</td>\n",
       "      <td>151</td>\n",
       "      <td>90</td>\n",
       "      <td>46</td>\n",
       "      <td>0</td>\n",
       "      <td>42.1</td>\n",
       "      <td>0.371</td>\n",
       "      <td>21</td>\n",
       "    </tr>\n",
       "    <tr>\n",
       "      <th>242</th>\n",
       "      <td>3</td>\n",
       "      <td>139</td>\n",
       "      <td>54</td>\n",
       "      <td>0</td>\n",
       "      <td>0</td>\n",
       "      <td>25.6</td>\n",
       "      <td>0.402</td>\n",
       "      <td>22</td>\n",
       "    </tr>\n",
       "  </tbody>\n",
       "</table>\n",
       "</div>"
      ],
      "text/plain": [
       "     Number of times pregnant   \n",
       "375                        12  \\\n",
       "621                         2   \n",
       "187                         1   \n",
       "580                         0   \n",
       "242                         3   \n",
       "\n",
       "     Plasma glucose concentration a 2 hours in an oral glucose tolerance test   \n",
       "375                                                140                         \\\n",
       "621                                                 92                          \n",
       "187                                                128                          \n",
       "580                                                151                          \n",
       "242                                                139                          \n",
       "\n",
       "     Diastolic blood pressure (mm Hg)  Triceps skin fold thickness (mm)   \n",
       "375                                82                                43  \\\n",
       "621                                76                                20   \n",
       "187                                98                                41   \n",
       "580                                90                                46   \n",
       "242                                54                                 0   \n",
       "\n",
       "     2-Hour serum insulin (mu U/ml)   \n",
       "375                             325  \\\n",
       "621                               0   \n",
       "187                              58   \n",
       "580                               0   \n",
       "242                               0   \n",
       "\n",
       "     Body mass index (weight in kg/(height in m)^2)   \n",
       "375                                            39.2  \\\n",
       "621                                            24.2   \n",
       "187                                            32.0   \n",
       "580                                            42.1   \n",
       "242                                            25.6   \n",
       "\n",
       "     Diabetes pedigree function  Age (years)  \n",
       "375                       0.528           58  \n",
       "621                       1.698           28  \n",
       "187                       1.321           33  \n",
       "580                       0.371           21  \n",
       "242                       0.402           22  "
      ]
     },
     "execution_count": 13,
     "metadata": {},
     "output_type": "execute_result"
    }
   ],
   "source": [
    "X_test.head()"
   ]
  },
  {
   "cell_type": "code",
   "execution_count": 14,
   "id": "9ac7b6d7",
   "metadata": {},
   "outputs": [
    {
     "data": {
      "text/plain": [
       "Number of times pregnant                                                    375\n",
       "Plasma glucose concentration a 2 hours in an oral glucose tolerance test    375\n",
       "Diastolic blood pressure (mm Hg)                                            375\n",
       "Triceps skin fold thickness (mm)                                            375\n",
       "2-Hour serum insulin (mu U/ml)                                              375\n",
       "Body mass index (weight in kg/(height in m)^2)                              375\n",
       "Diabetes pedigree function                                                  375\n",
       "Age (years)                                                                 375\n",
       "dtype: int64"
      ]
     },
     "execution_count": 14,
     "metadata": {},
     "output_type": "execute_result"
    }
   ],
   "source": [
    "X_train.count()"
   ]
  },
  {
   "cell_type": "code",
   "execution_count": 15,
   "id": "99333c1a",
   "metadata": {},
   "outputs": [
    {
     "data": {
      "text/plain": [
       "Number of times pregnant                                                    161\n",
       "Plasma glucose concentration a 2 hours in an oral glucose tolerance test    161\n",
       "Diastolic blood pressure (mm Hg)                                            161\n",
       "Triceps skin fold thickness (mm)                                            161\n",
       "2-Hour serum insulin (mu U/ml)                                              161\n",
       "Body mass index (weight in kg/(height in m)^2)                              161\n",
       "Diabetes pedigree function                                                  161\n",
       "Age (years)                                                                 161\n",
       "dtype: int64"
      ]
     },
     "execution_count": 15,
     "metadata": {},
     "output_type": "execute_result"
    }
   ],
   "source": [
    "X_test.count()"
   ]
  },
  {
   "cell_type": "code",
   "execution_count": 16,
   "id": "68c0d444",
   "metadata": {},
   "outputs": [],
   "source": [
    "import math\n",
    "def Eucliden_distance(x, y):\n",
    "    d1 = x['Number of times pregnant'] - y['Number of times pregnant'];\n",
    "    d2 = x['Plasma glucose concentration a 2 hours in an oral glucose tolerance test'] - y['Plasma glucose concentration a 2 hours in an oral glucose tolerance test'];\n",
    "    d3 = x['Diastolic blood pressure (mm Hg)'] - y['Diastolic blood pressure (mm Hg)'];\n",
    "    d4 = x['Triceps skin fold thickness (mm)'] - y['Triceps skin fold thickness (mm)'];\n",
    "    d5 = x['2-Hour serum insulin (mu U/ml)'] - y['2-Hour serum insulin (mu U/ml)'];\n",
    "    d6 = x['Body mass index (weight in kg/(height in m)^2)'] - y['Body mass index (weight in kg/(height in m)^2)'];\n",
    "    d7 = x['Diabetes pedigree function'] - y['Diabetes pedigree function'];\n",
    "    d8 = x['Age (years)'] - y['Age (years)'];\n",
    "    return math.sqrt(d1**2 + d2**2 + d3**2 + d4**2 + d5**2 + d6**2 + d7**2 + d8**2);"
   ]
  },
  {
   "cell_type": "code",
   "execution_count": 17,
   "id": "ee42a6e6",
   "metadata": {},
   "outputs": [],
   "source": [
    "def K_NN(k):\n",
    "    y_predicted = [0]*161\n",
    "    Accuracy = 0\n",
    "    for i in range(161):\n",
    "        rank = [0]*375\n",
    "        dis = [0]*375\n",
    "        for j in range(375):\n",
    "            dis[j] = Eucliden_distance(X_train.iloc[j], X_test.iloc[i])\n",
    "            rank[j] = j\n",
    "        for e in range(375):\n",
    "            for j in range(375):\n",
    "                if(dis[e]<dis[j]):\n",
    "                    temp = dis[j]\n",
    "                    dis[j] = dis[e]\n",
    "                    dis[e] = temp\n",
    "                    temp1 = rank[j]\n",
    "                    rank[j] = rank[e]\n",
    "                    rank[e] = temp1\n",
    "        No_of_0 = 0\n",
    "        No_of_1 = 0\n",
    "        for h in range(k):\n",
    "            if(y_train.iloc[rank[h]]==0):\n",
    "                No_of_0+=1\n",
    "            else:\n",
    "                No_of_1+=1\n",
    "        if(No_of_0>No_of_1):\n",
    "            y_predicted[i] = 0\n",
    "        else:\n",
    "            y_predicted[i] = 1\n",
    "            \n",
    "    TP = 0\n",
    "    FP = 0\n",
    "    TN = 0\n",
    "    FN = 0\n",
    "    for i in range(161):\n",
    "        if(y_test.iloc[i]==y_predicted[i]):\n",
    "            if(y_test.iloc[i]==0):\n",
    "                TP+=1\n",
    "            else:\n",
    "                TN+=1\n",
    "        elif(y_predicted[i]==0):\n",
    "            FP+=1\n",
    "        else:\n",
    "            FN+=1\n",
    "    Accuracy = (TP + TN) / (TP + FP + TN + FN)\n",
    "    return Accuracy"
   ]
  },
  {
   "cell_type": "code",
   "execution_count": 18,
   "id": "c52c5235",
   "metadata": {},
   "outputs": [
    {
     "name": "stdout",
     "output_type": "stream",
     "text": [
      "3      0.6894409937888198\n",
      "5      0.6956521739130435\n",
      "7      0.6770186335403726\n",
      "9      0.7080745341614907\n",
      "11      0.7453416149068323\n",
      "13      0.7391304347826086\n",
      "15      0.7204968944099379\n",
      "17      0.7329192546583851\n",
      "19      0.7142857142857143\n",
      "21      0.6956521739130435\n",
      "23      0.7018633540372671\n",
      "25      0.6832298136645962\n",
      "27      0.6770186335403726\n",
      "29      0.6832298136645962\n",
      "31      0.6894409937888198\n",
      "33      0.6894409937888198\n",
      "35      0.6645962732919255\n",
      "37      0.6708074534161491\n",
      "39      0.6770186335403726\n",
      "41      0.6770186335403726\n",
      "43      0.6832298136645962\n",
      "45      0.6583850931677019\n",
      "47      0.6583850931677019\n",
      "49      0.6645962732919255\n",
      "51      0.6645962732919255\n"
     ]
    }
   ],
   "source": [
    "k = [3, 5, 7, 9, 11, 13, 15, 17, 19, 21, 23, 25, 27, 29, 31, 33, 35, 37, 39, 41, 43, 45, 47, 49, 51]\n",
    "Accuracy = [0]*len(k)\n",
    "for i in range(len(k)):\n",
    "    Accuracy[i] = K_NN(k[i])\n",
    "    print(k[i], \"    \", Accuracy[i])"
   ]
  },
  {
   "cell_type": "code",
   "execution_count": 19,
   "id": "34678ac3",
   "metadata": {},
   "outputs": [
    {
     "data": {
      "image/png": "[encoded data removed]",
      "text/plain": [
       "<Figure size 640x480 with 1 Axes>"
      ]
     },
     "metadata": {},
     "output_type": "display_data"
    }
   ],
   "source": [
    "import matplotlib.pyplot as plt\n",
    "plt.plot(k, Accuracy, marker='o')\n",
    "plt.title('Accuracy vs. K')\n",
    "plt.xlabel('K')\n",
    "plt.ylabel('Accuracy')\n",
    "plt.ylim(0.6, 0.8)  # Limit y-axis to the range 0 to 1\n",
    "plt.grid(True)\n",
    "plt.show()"
   ]
  },
  {
   "cell_type": "code",
   "execution_count": null,
   "id": "3db680a1",
   "metadata": {},
   "outputs": [],
   "source": []
  }
 ],
 "metadata": {
  "kernelspec": {
   "display_name": "Python 3 (ipykernel)",
   "language": "python",
   "name": "python3"
  },
  "language_info": {
   "codemirror_mode": {
    "name": "ipython",
    "version": 3
   },
   "file_extension": ".py",
   "mimetype": "text/x-python",
   "name": "python",
   "nbconvert_exporter": "python",
   "pygments_lexer": "ipython3",
   "version": "3.8.7"
  }
 },
 "nbformat": 4,
 "nbformat_minor": 5
}
