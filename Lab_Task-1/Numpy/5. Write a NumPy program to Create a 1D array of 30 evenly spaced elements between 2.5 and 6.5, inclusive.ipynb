{
 "cells": [
  {
   "cell_type": "code",
   "execution_count": 1,
   "id": "f34a4ee9",
   "metadata": {},
   "outputs": [],
   "source": [
    "import numpy as np"
   ]
  },
  {
   "cell_type": "code",
   "execution_count": 20,
   "id": "425a69e7",
   "metadata": {},
   "outputs": [],
   "source": [
    "arr = np.arange(2.5, 6.5, 0.135)"
   ]
  },
  {
   "cell_type": "code",
   "execution_count": 21,
   "id": "c068ab40",
   "metadata": {},
   "outputs": [
    {
     "name": "stdout",
     "output_type": "stream",
     "text": [
      "[2.5   2.635 2.77  2.905 3.04  3.175 3.31  3.445 3.58  3.715 3.85  3.985\n",
      " 4.12  4.255 4.39  4.525 4.66  4.795 4.93  5.065 5.2   5.335 5.47  5.605\n",
      " 5.74  5.875 6.01  6.145 6.28  6.415]\n",
      "30\n"
     ]
    }
   ],
   "source": [
    "print(arr)\n",
    "print(len(arr))"
   ]
  },
  {
   "cell_type": "code",
   "execution_count": 22,
   "id": "c2a79d86",
   "metadata": {},
   "outputs": [],
   "source": [
    "arr1 = np.linspace(2.5, 6.5, num=30, dtype=float)"
   ]
  },
  {
   "cell_type": "code",
   "execution_count": 23,
   "id": "ee6a17f6",
   "metadata": {},
   "outputs": [
    {
     "name": "stdout",
     "output_type": "stream",
     "text": [
      "[2.5        2.63793103 2.77586207 2.9137931  3.05172414 3.18965517\n",
      " 3.32758621 3.46551724 3.60344828 3.74137931 3.87931034 4.01724138\n",
      " 4.15517241 4.29310345 4.43103448 4.56896552 4.70689655 4.84482759\n",
      " 4.98275862 5.12068966 5.25862069 5.39655172 5.53448276 5.67241379\n",
      " 5.81034483 5.94827586 6.0862069  6.22413793 6.36206897 6.5       ]\n",
      "30\n"
     ]
    }
   ],
   "source": [
    "print(arr1)\n",
    "print(len(arr1))"
   ]
  },
  {
   "cell_type": "code",
   "execution_count": null,
   "id": "1dc8f39f",
   "metadata": {},
   "outputs": [],
   "source": []
  }
 ],
 "metadata": {
  "kernelspec": {
   "display_name": "Python 3 (ipykernel)",
   "language": "python",
   "name": "python3"
  },
  "language_info": {
   "codemirror_mode": {
    "name": "ipython",
    "version": 3
   },
   "file_extension": ".py",
   "mimetype": "text/x-python",
   "name": "python",
   "nbconvert_exporter": "python",
   "pygments_lexer": "ipython3",
   "version": "3.8.7"
  }
 },
 "nbformat": 4,
 "nbformat_minor": 5
}
