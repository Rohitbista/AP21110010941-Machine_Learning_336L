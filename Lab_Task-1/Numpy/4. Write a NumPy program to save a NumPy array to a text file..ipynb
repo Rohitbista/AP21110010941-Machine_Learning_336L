{
 "cells": [
  {
   "cell_type": "code",
   "execution_count": 1,
   "id": "3d3cb062",
   "metadata": {},
   "outputs": [],
   "source": [
    "import numpy as np"
   ]
  },
  {
   "cell_type": "code",
   "execution_count": 2,
   "id": "e12f332f",
   "metadata": {},
   "outputs": [],
   "source": [
    "arr = np.array([[1, 2, 3], [4, 5, 6], [7, 8, 9]])"
   ]
  },
  {
   "cell_type": "code",
   "execution_count": 3,
   "id": "60e583d7",
   "metadata": {},
   "outputs": [],
   "source": [
    "np.savetxt('NumpyArrayToText.txt', arr)"
   ]
  },
  {
   "cell_type": "code",
   "execution_count": null,
   "id": "8db64405",
   "metadata": {},
   "outputs": [],
   "source": []
  }
 ],
 "metadata": {
  "kernelspec": {
   "display_name": "Python 3 (ipykernel)",
   "language": "python",
   "name": "python3"
  },
  "language_info": {
   "codemirror_mode": {
    "name": "ipython",
    "version": 3
   },
   "file_extension": ".py",
   "mimetype": "text/x-python",
   "name": "python",
   "nbconvert_exporter": "python",
   "pygments_lexer": "ipython3",
   "version": "3.8.7"
  }
 },
 "nbformat": 4,
 "nbformat_minor": 5
}
