{
 "cells": [
  {
   "cell_type": "code",
   "execution_count": 1,
   "id": "09ae0b5c",
   "metadata": {},
   "outputs": [],
   "source": [
    "import pandas as pd"
   ]
  },
  {
   "cell_type": "code",
   "execution_count": 2,
   "id": "a9938ef9",
   "metadata": {},
   "outputs": [],
   "source": [
    "data = {\n",
    "    'Student': ['Ram', 'Laxman', 'Bharat', 'Vivishan'],\n",
    "    'Attempts': [0, 1, 2, 4]\n",
    "}"
   ]
  },
  {
   "cell_type": "code",
   "execution_count": 3,
   "id": "e0cd2837",
   "metadata": {},
   "outputs": [],
   "source": [
    "df = pd.DataFrame(data)"
   ]
  },
  {
   "cell_type": "code",
   "execution_count": 4,
   "id": "479eb5b1",
   "metadata": {},
   "outputs": [],
   "source": [
    "selected_rows = df[df['Attempts'] > 2]"
   ]
  },
  {
   "cell_type": "code",
   "execution_count": 7,
   "id": "fb2a9aa9",
   "metadata": {},
   "outputs": [
    {
     "name": "stdout",
     "output_type": "stream",
     "text": [
      "Original DataFrame:\n",
      "     Student  Attempts\n",
      "0       Ram         0\n",
      "1    Laxman         1\n",
      "2    Bharat         2\n",
      "3  Vivishan         4\n"
     ]
    }
   ],
   "source": [
    "print(\"Original DataFrame:\\n\", df)"
   ]
  },
  {
   "cell_type": "code",
   "execution_count": 10,
   "id": "25bc346d",
   "metadata": {},
   "outputs": [
    {
     "name": "stdout",
     "output_type": "stream",
     "text": [
      "Selected rows whose number of attempts is greater than 2:\n",
      "     Student  Attempts\n",
      "3  Vivishan         4\n"
     ]
    }
   ],
   "source": [
    "print(\"Selected rows whose number of attempts is greater than 2:\\n\", selected_rows)"
   ]
  },
  {
   "cell_type": "code",
   "execution_count": null,
   "id": "4ed601e6",
   "metadata": {},
   "outputs": [],
   "source": []
  }
 ],
 "metadata": {
  "kernelspec": {
   "display_name": "Python 3 (ipykernel)",
   "language": "python",
   "name": "python3"
  },
  "language_info": {
   "codemirror_mode": {
    "name": "ipython",
    "version": 3
   },
   "file_extension": ".py",
   "mimetype": "text/x-python",
   "name": "python",
   "nbconvert_exporter": "python",
   "pygments_lexer": "ipython3",
   "version": "3.8.7"
  }
 },
 "nbformat": 4,
 "nbformat_minor": 5
}
