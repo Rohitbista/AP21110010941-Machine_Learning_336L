{
 "cells": [
  {
   "cell_type": "code",
   "execution_count": 1,
   "id": "63123785",
   "metadata": {},
   "outputs": [],
   "source": [
    "import pandas as pd"
   ]
  },
  {
   "cell_type": "code",
   "execution_count": 2,
   "id": "1986fe1c",
   "metadata": {},
   "outputs": [],
   "source": [
    "ser1 = pd.Series(['wow', 'hehe', 'what', 'really', 'no'])"
   ]
  },
  {
   "cell_type": "code",
   "execution_count": 3,
   "id": "de8849c2",
   "metadata": {},
   "outputs": [],
   "source": [
    "length = ser1.str.len()"
   ]
  },
  {
   "cell_type": "code",
   "execution_count": 4,
   "id": "366d142b",
   "metadata": {},
   "outputs": [
    {
     "name": "stdout",
     "output_type": "stream",
     "text": [
      "0    3\n",
      "1    4\n",
      "2    4\n",
      "3    6\n",
      "4    2\n",
      "dtype: int64\n"
     ]
    }
   ],
   "source": [
    "print(length)"
   ]
  },
  {
   "cell_type": "code",
   "execution_count": null,
   "id": "b327751e",
   "metadata": {},
   "outputs": [],
   "source": []
  }
 ],
 "metadata": {
  "kernelspec": {
   "display_name": "Python 3 (ipykernel)",
   "language": "python",
   "name": "python3"
  },
  "language_info": {
   "codemirror_mode": {
    "name": "ipython",
    "version": 3
   },
   "file_extension": ".py",
   "mimetype": "text/x-python",
   "name": "python",
   "nbconvert_exporter": "python",
   "pygments_lexer": "ipython3",
   "version": "3.8.7"
  }
 },
 "nbformat": 4,
 "nbformat_minor": 5
}
