{
 "cells": [
  {
   "cell_type": "code",
   "execution_count": 1,
   "id": "0225fd1a",
   "metadata": {},
   "outputs": [],
   "source": [
    "import pandas as pd"
   ]
  },
  {
   "cell_type": "code",
   "execution_count": 2,
   "id": "0fecf899",
   "metadata": {},
   "outputs": [],
   "source": [
    "ser1 = pd.Series([\"waw\", \"haw\", \"maw\", \"law\", \"kaw\", \"jaw\", \"gaw\", \"faw\", \"waw\", \"waw\"])"
   ]
  },
  {
   "cell_type": "code",
   "execution_count": 3,
   "id": "c4735359",
   "metadata": {},
   "outputs": [
    {
     "data": {
      "text/plain": [
       "0    waw\n",
       "1    haw\n",
       "2    maw\n",
       "3    law\n",
       "4    kaw\n",
       "dtype: object"
      ]
     },
     "execution_count": 3,
     "metadata": {},
     "output_type": "execute_result"
    }
   ],
   "source": [
    "ser1.head()"
   ]
  },
  {
   "cell_type": "code",
   "execution_count": 7,
   "id": "c0038749",
   "metadata": {},
   "outputs": [],
   "source": [
    "count = ser1.value_counts()"
   ]
  },
  {
   "cell_type": "code",
   "execution_count": 8,
   "id": "f46b38ae",
   "metadata": {},
   "outputs": [
    {
     "name": "stdout",
     "output_type": "stream",
     "text": [
      "waw\n"
     ]
    }
   ],
   "source": [
    "print(count.index[0])"
   ]
  },
  {
   "cell_type": "code",
   "execution_count": null,
   "id": "94c84e71",
   "metadata": {},
   "outputs": [],
   "source": []
  }
 ],
 "metadata": {
  "kernelspec": {
   "display_name": "Python 3 (ipykernel)",
   "language": "python",
   "name": "python3"
  },
  "language_info": {
   "codemirror_mode": {
    "name": "ipython",
    "version": 3
   },
   "file_extension": ".py",
   "mimetype": "text/x-python",
   "name": "python",
   "nbconvert_exporter": "python",
   "pygments_lexer": "ipython3",
   "version": "3.8.7"
  }
 },
 "nbformat": 4,
 "nbformat_minor": 5
}
