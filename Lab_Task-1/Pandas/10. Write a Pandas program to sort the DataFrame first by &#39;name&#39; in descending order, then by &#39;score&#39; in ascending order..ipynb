{
 "cells": [
  {
   "cell_type": "code",
   "execution_count": 1,
   "id": "2bad425d",
   "metadata": {},
   "outputs": [],
   "source": [
    "import pandas as pd"
   ]
  },
  {
   "cell_type": "code",
   "execution_count": 2,
   "id": "c371b822",
   "metadata": {},
   "outputs": [],
   "source": [
    "data = {\n",
    "    'Name': ['Deon','Nimo','Alisa','Pelos'],\n",
    "    'Score': [77, 45, 37, 69]\n",
    "}"
   ]
  },
  {
   "cell_type": "code",
   "execution_count": 3,
   "id": "9b203e54",
   "metadata": {},
   "outputs": [],
   "source": [
    "df = pd.DataFrame(data)"
   ]
  },
  {
   "cell_type": "code",
   "execution_count": 4,
   "id": "307a2dfd",
   "metadata": {},
   "outputs": [],
   "source": [
    "df_sorted = df.sort_values(by=['Name', 'Score'], ascending=[False, True])"
   ]
  },
  {
   "cell_type": "code",
   "execution_count": 5,
   "id": "efd6797c",
   "metadata": {},
   "outputs": [
    {
     "name": "stdout",
     "output_type": "stream",
     "text": [
      "DataFrame sorted by 'Name' in descending order, then by 'Score' in ascending order:\n",
      "     Name  Score\n",
      "3  Pelos     69\n",
      "1   Nimo     45\n",
      "0   Deon     77\n",
      "2  Alisa     37\n"
     ]
    }
   ],
   "source": [
    "print(\"DataFrame sorted by 'Name' in descending order, then by 'Score' in ascending order:\\n\", df_sorted)"
   ]
  },
  {
   "cell_type": "code",
   "execution_count": null,
   "id": "de95bc7d",
   "metadata": {},
   "outputs": [],
   "source": []
  }
 ],
 "metadata": {
  "kernelspec": {
   "display_name": "Python 3 (ipykernel)",
   "language": "python",
   "name": "python3"
  },
  "language_info": {
   "codemirror_mode": {
    "name": "ipython",
    "version": 3
   },
   "file_extension": ".py",
   "mimetype": "text/x-python",
   "name": "python",
   "nbconvert_exporter": "python",
   "pygments_lexer": "ipython3",
   "version": "3.8.7"
  }
 },
 "nbformat": 4,
 "nbformat_minor": 5
}
