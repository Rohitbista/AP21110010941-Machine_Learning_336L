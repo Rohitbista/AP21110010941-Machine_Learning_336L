{
 "cells": [
  {
   "cell_type": "code",
   "execution_count": 1,
   "id": "4cae9156",
   "metadata": {},
   "outputs": [],
   "source": [
    "import pandas as pd"
   ]
  },
  {
   "cell_type": "code",
   "execution_count": 12,
   "id": "2107a48d",
   "metadata": {},
   "outputs": [],
   "source": [
    "data = {'Name': ['Elliot','Steven','Nun','Eleven']}"
   ]
  },
  {
   "cell_type": "code",
   "execution_count": 13,
   "id": "4b795785",
   "metadata": {},
   "outputs": [],
   "source": [
    "df = pd.DataFrame(data)"
   ]
  },
  {
   "cell_type": "code",
   "execution_count": 14,
   "id": "7e4f9f70",
   "metadata": {},
   "outputs": [],
   "source": [
    "new_row = {'Name': 'Twelve'}"
   ]
  },
  {
   "cell_type": "code",
   "execution_count": 15,
   "id": "9bf0ef5f",
   "metadata": {},
   "outputs": [],
   "source": [
    "df = pd.concat([df, pd.DataFrame([new_row])], ignore_index=True)"
   ]
  },
  {
   "cell_type": "code",
   "execution_count": 16,
   "id": "50f3dfcd",
   "metadata": {},
   "outputs": [
    {
     "name": "stdout",
     "output_type": "stream",
     "text": [
      "DataFrame with New Row:\n",
      "      Name\n",
      "0  Elliot\n",
      "1  Steven\n",
      "2     Nun\n",
      "3  Eleven\n",
      "4  Twelve\n"
     ]
    }
   ],
   "source": [
    "print(\"DataFrame with New Row:\\n\", df)"
   ]
  },
  {
   "cell_type": "code",
   "execution_count": 17,
   "id": "36ca04af",
   "metadata": {},
   "outputs": [],
   "source": [
    "df = df.drop(df[df['Name'] == 'Twelve'].index)"
   ]
  },
  {
   "cell_type": "code",
   "execution_count": 19,
   "id": "6e38c504",
   "metadata": {},
   "outputs": [
    {
     "name": "stdout",
     "output_type": "stream",
     "text": [
      "Original DataFrame after Deleting 'Likhita':\n",
      "      Name\n",
      "0  Elliot\n",
      "1  Steven\n",
      "2     Nun\n",
      "3  Eleven\n"
     ]
    }
   ],
   "source": [
    "print(\"Original DataFrame after Deleting 'Likhita':\\n\", df)"
   ]
  },
  {
   "cell_type": "code",
   "execution_count": null,
   "id": "dba37abe",
   "metadata": {},
   "outputs": [],
   "source": []
  }
 ],
 "metadata": {
  "kernelspec": {
   "display_name": "Python 3 (ipykernel)",
   "language": "python",
   "name": "python3"
  },
  "language_info": {
   "codemirror_mode": {
    "name": "ipython",
    "version": 3
   },
   "file_extension": ".py",
   "mimetype": "text/x-python",
   "name": "python",
   "nbconvert_exporter": "python",
   "pygments_lexer": "ipython3",
   "version": "3.8.7"
  }
 },
 "nbformat": 4,
 "nbformat_minor": 5
}
