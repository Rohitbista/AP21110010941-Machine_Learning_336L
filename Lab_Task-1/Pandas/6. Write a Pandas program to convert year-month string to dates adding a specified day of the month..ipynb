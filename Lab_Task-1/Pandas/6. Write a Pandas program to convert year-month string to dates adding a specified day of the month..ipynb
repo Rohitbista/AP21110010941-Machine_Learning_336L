{
 "cells": [
  {
   "cell_type": "code",
   "execution_count": 1,
   "id": "1f70fd47",
   "metadata": {},
   "outputs": [],
   "source": [
    "import pandas as pd"
   ]
  },
  {
   "cell_type": "code",
   "execution_count": 2,
   "id": "a2f29ebb",
   "metadata": {},
   "outputs": [],
   "source": [
    "year_month = pd.Series(['2024-01', '2024-02', '2024-03', '2024-04'])"
   ]
  },
  {
   "cell_type": "code",
   "execution_count": 3,
   "id": "4cc7efe4",
   "metadata": {},
   "outputs": [],
   "source": [
    "specified_day = 3"
   ]
  },
  {
   "cell_type": "code",
   "execution_count": 5,
   "id": "e1dc8d2d",
   "metadata": {},
   "outputs": [],
   "source": [
    "dates_with_specified_day = pd.to_datetime(year_month + '-' + str(specified_day), format='%Y-%m-%d')"
   ]
  },
  {
   "cell_type": "code",
   "execution_count": 9,
   "id": "0b1fce46",
   "metadata": {},
   "outputs": [],
   "source": [
    "op = pd.DataFrame({\n",
    "    'Year-Month String': year_month,\n",
    "    'Converted Date': dates_with_specified_day\n",
    "})"
   ]
  },
  {
   "cell_type": "code",
   "execution_count": 10,
   "id": "91e956c1",
   "metadata": {},
   "outputs": [
    {
     "name": "stdout",
     "output_type": "stream",
     "text": [
      "  Year-Month String Converted Date\n",
      "0           2024-01     2024-01-03\n",
      "1           2024-02     2024-02-03\n",
      "2           2024-03     2024-03-03\n",
      "3           2024-04     2024-04-03\n"
     ]
    }
   ],
   "source": [
    "print(op)"
   ]
  },
  {
   "cell_type": "code",
   "execution_count": null,
   "id": "8470d4c6",
   "metadata": {},
   "outputs": [],
   "source": []
  }
 ],
 "metadata": {
  "kernelspec": {
   "display_name": "Python 3 (ipykernel)",
   "language": "python",
   "name": "python3"
  },
  "language_info": {
   "codemirror_mode": {
    "name": "ipython",
    "version": 3
   },
   "file_extension": ".py",
   "mimetype": "text/x-python",
   "name": "python",
   "nbconvert_exporter": "python",
   "pygments_lexer": "ipython3",
   "version": "3.8.7"
  }
 },
 "nbformat": 4,
 "nbformat_minor": 5
}
