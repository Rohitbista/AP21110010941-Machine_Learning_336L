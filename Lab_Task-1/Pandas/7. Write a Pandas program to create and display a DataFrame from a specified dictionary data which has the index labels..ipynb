{
 "cells": [
  {
   "cell_type": "code",
   "execution_count": 1,
   "id": "fe7b8fb4",
   "metadata": {},
   "outputs": [],
   "source": [
    "import pandas as pd"
   ]
  },
  {
   "cell_type": "code",
   "execution_count": 2,
   "id": "951d677d",
   "metadata": {},
   "outputs": [],
   "source": [
    "dictionary_data = {\n",
    "    'Name': ['Ram', 'Hisenberg', 'James', 'Gorvechov'],\n",
    "    'Age': [22, 23, 21, 20],\n",
    "    'City': ['Ayodhya', 'Berlin', 'Newyork', 'Moscow']\n",
    "}"
   ]
  },
  {
   "cell_type": "code",
   "execution_count": 3,
   "id": "43655e17",
   "metadata": {},
   "outputs": [],
   "source": [
    "index_labels = ['Person1', 'Person2', 'Person3', 'Person4']"
   ]
  },
  {
   "cell_type": "code",
   "execution_count": 5,
   "id": "6b284853",
   "metadata": {},
   "outputs": [],
   "source": [
    "df = pd.DataFrame(dictionary_data, index=index_labels)"
   ]
  },
  {
   "cell_type": "code",
   "execution_count": 6,
   "id": "ef37c60c",
   "metadata": {},
   "outputs": [
    {
     "name": "stdout",
     "output_type": "stream",
     "text": [
      "              Name  Age     City\n",
      "Person1        Ram   22  Ayodhya\n",
      "Person2  Hisenberg   23   Berlin\n",
      "Person3      James   21  Newyork\n",
      "Person4  Gorvechov   20   Moscow\n"
     ]
    }
   ],
   "source": [
    "print(df)"
   ]
  },
  {
   "cell_type": "code",
   "execution_count": null,
   "id": "b4eee96f",
   "metadata": {},
   "outputs": [],
   "source": []
  }
 ],
 "metadata": {
  "kernelspec": {
   "display_name": "Python 3 (ipykernel)",
   "language": "python",
   "name": "python3"
  },
  "language_info": {
   "codemirror_mode": {
    "name": "ipython",
    "version": 3
   },
   "file_extension": ".py",
   "mimetype": "text/x-python",
   "name": "python",
   "nbconvert_exporter": "python",
   "pygments_lexer": "ipython3",
   "version": "3.8.7"
  }
 },
 "nbformat": 4,
 "nbformat_minor": 5
}
