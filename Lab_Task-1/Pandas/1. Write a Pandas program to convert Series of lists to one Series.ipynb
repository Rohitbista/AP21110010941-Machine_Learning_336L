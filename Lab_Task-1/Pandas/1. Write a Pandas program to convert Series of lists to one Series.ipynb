{
 "cells": [
  {
   "cell_type": "code",
   "execution_count": 1,
   "id": "5cb9a5a0",
   "metadata": {},
   "outputs": [],
   "source": [
    "import pandas as pd"
   ]
  },
  {
   "cell_type": "code",
   "execution_count": 2,
   "id": "c68a9c90",
   "metadata": {},
   "outputs": [],
   "source": [
    "ser1 = pd.Series([\"Spark\", \"PySpark\", \"Python\"])\n",
    "ser2 = pd.Series([\"Pandas\", \"Python\", \"oracle\"])\n",
    "ser3 = pd.Series([\"java\", \"Numpy\", \"R\"])"
   ]
  },
  {
   "cell_type": "code",
   "execution_count": 9,
   "id": "ed024abc",
   "metadata": {},
   "outputs": [
    {
     "name": "stdout",
     "output_type": "stream",
     "text": [
      "         0       1      2\n",
      "0    Spark  Pandas   java\n",
      "1  PySpark  Python  Numpy\n",
      "2   Python  oracle      R\n"
     ]
    }
   ],
   "source": [
    "ser4 = pd.concat([ser1, ser2, ser3], axis = 1)\n",
    "print(ser4)"
   ]
  },
  {
   "cell_type": "code",
   "execution_count": 14,
   "id": "91846255",
   "metadata": {},
   "outputs": [],
   "source": [
    "ser5 = pd.Series([[\"Spark\", \"PySpark\", \"Python\"], \n",
    "                  [\"Pandas\", \"Python\", \"oracle\"], \n",
    "                  [\"java\", \"Numpy\", \"R\"]])"
   ]
  },
  {
   "cell_type": "code",
   "execution_count": 16,
   "id": "80f4d05b",
   "metadata": {},
   "outputs": [],
   "source": [
    "ser6 = ser5.apply(pd.Series).stack().reset_index(drop=True)"
   ]
  },
  {
   "cell_type": "code",
   "execution_count": 17,
   "id": "9483b86a",
   "metadata": {},
   "outputs": [
    {
     "name": "stdout",
     "output_type": "stream",
     "text": [
      "0      Spark\n",
      "1    PySpark\n",
      "2     Python\n",
      "3     Pandas\n",
      "4     Python\n",
      "5     oracle\n",
      "6       java\n",
      "7      Numpy\n",
      "8          R\n",
      "dtype: object\n"
     ]
    }
   ],
   "source": [
    "print(ser6)"
   ]
  },
  {
   "cell_type": "code",
   "execution_count": null,
   "id": "7b7c2907",
   "metadata": {},
   "outputs": [],
   "source": []
  }
 ],
 "metadata": {
  "kernelspec": {
   "display_name": "Python 3 (ipykernel)",
   "language": "python",
   "name": "python3"
  },
  "language_info": {
   "codemirror_mode": {
    "name": "ipython",
    "version": 3
   },
   "file_extension": ".py",
   "mimetype": "text/x-python",
   "name": "python",
   "nbconvert_exporter": "python",
   "pygments_lexer": "ipython3",
   "version": "3.8.7"
  }
 },
 "nbformat": 4,
 "nbformat_minor": 5
}
