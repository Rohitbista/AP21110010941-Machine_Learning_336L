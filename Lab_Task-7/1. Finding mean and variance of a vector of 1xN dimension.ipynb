{
 "cells": [
  {
   "cell_type": "code",
   "execution_count": 2,
   "id": "0e69252a",
   "metadata": {},
   "outputs": [],
   "source": [
    "import numpy as np"
   ]
  },
  {
   "cell_type": "code",
   "execution_count": 18,
   "id": "30ee84ee",
   "metadata": {},
   "outputs": [
    {
     "name": "stdout",
     "output_type": "stream",
     "text": [
      "Feature vector:\n",
      "[[8 3 4 3 3 7 1 9 9 6]]\n"
     ]
    }
   ],
   "source": [
    "# Define the dimensionality of the feature vector\n",
    "N = 10\n",
    "\n",
    "# Create a random 1xN feature vector\n",
    "feature_vector = np.random.randint(low=0, high=10, size=(1, N))\n",
    "\n",
    "print(\"Feature vector:\")\n",
    "print(feature_vector)"
   ]
  },
  {
   "cell_type": "code",
   "execution_count": 26,
   "id": "58bd63f0",
   "metadata": {},
   "outputs": [],
   "source": [
    "def MeanAndVariance(vec):\n",
    "    Mean = np.sum(vec) / np.size(vec)\n",
    "    te = (vec - Mean)**2\n",
    "    Sample_Variance = np.sum(te) / (np.size(vec) - 1)\n",
    "    Population_Variance = np.sum(te) / np.size(vec)\n",
    "    return Mean, Sample_Variance, Population_Variance"
   ]
  },
  {
   "cell_type": "code",
   "execution_count": 27,
   "id": "53d7db19",
   "metadata": {},
   "outputs": [
    {
     "name": "stdout",
     "output_type": "stream",
     "text": [
      "Mean:  5.3\n",
      "Sample Variance:  8.233333333333333\n",
      "Population Variance:  7.409999999999999\n"
     ]
    }
   ],
   "source": [
    "Mean, Sample_Variance, Population_Variance = MeanAndVariance(feature_vector)\n",
    "print(\"Mean: \", Mean)\n",
    "print(\"Sample Variance: \", Sample_Variance)\n",
    "print(\"Population Variance: \", Population_Variance)"
   ]
  },
  {
   "cell_type": "code",
   "execution_count": 21,
   "id": "d9ee97eb",
   "metadata": {},
   "outputs": [],
   "source": [
    "#Mean represents the mean of each value\n",
    "#Variance represents variance between each value"
   ]
  },
  {
   "cell_type": "code",
   "execution_count": null,
   "id": "6b5b3bc2",
   "metadata": {},
   "outputs": [],
   "source": []
  }
 ],
 "metadata": {
  "kernelspec": {
   "display_name": "Python 3 (ipykernel)",
   "language": "python",
   "name": "python3"
  },
  "language_info": {
   "codemirror_mode": {
    "name": "ipython",
    "version": 3
   },
   "file_extension": ".py",
   "mimetype": "text/x-python",
   "name": "python",
   "nbconvert_exporter": "python",
   "pygments_lexer": "ipython3",
   "version": "3.8.7"
  }
 },
 "nbformat": 4,
 "nbformat_minor": 5
}
