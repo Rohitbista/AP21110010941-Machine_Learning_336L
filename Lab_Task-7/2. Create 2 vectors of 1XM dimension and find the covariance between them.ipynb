{
 "cells": [
  {
   "cell_type": "code",
   "execution_count": 1,
   "id": "18a7c750",
   "metadata": {},
   "outputs": [],
   "source": [
    "import numpy as np"
   ]
  },
  {
   "cell_type": "code",
   "execution_count": 7,
   "id": "1fabe423",
   "metadata": {},
   "outputs": [],
   "source": [
    "def covariance(v1, v2):\n",
    "    M1 = np.sum(v1) / np.size(v1)\n",
    "    M2 = np.sum(v2) / np.size(v2)\n",
    "    t1 = (v1 - M1)**2\n",
    "    t2 = (v2 - M2)**2\n",
    "    mul = t1 * t2\n",
    "    su = np.sum(mul)\n",
    "    return (su / (np.size(v1) - 1))"
   ]
  },
  {
   "cell_type": "code",
   "execution_count": 8,
   "id": "9c3e6b8e",
   "metadata": {},
   "outputs": [],
   "source": [
    "M = 7\n",
    "vec1 = np.random.randint(low=0, high=10, size=(1, M))\n",
    "vec2 = np.random.randint(low=0, high=10, size=(1, M))"
   ]
  },
  {
   "cell_type": "code",
   "execution_count": 9,
   "id": "a08fe1c1",
   "metadata": {},
   "outputs": [
    {
     "name": "stdout",
     "output_type": "stream",
     "text": [
      "Covariance between those 2 vectors are : 35.14285714285714\n"
     ]
    }
   ],
   "source": [
    "Cov = covariance(vec1, vec2)\n",
    "print(\"Covariance between those 2 vectors are :\", Cov)"
   ]
  },
  {
   "cell_type": "code",
   "execution_count": null,
   "id": "31c0606a",
   "metadata": {},
   "outputs": [],
   "source": [
    "#Covariance between two vectors using the unbiased estimator formula, providing a measure of how two variables change together"
   ]
  }
 ],
 "metadata": {
  "kernelspec": {
   "display_name": "Python 3 (ipykernel)",
   "language": "python",
   "name": "python3"
  },
  "language_info": {
   "codemirror_mode": {
    "name": "ipython",
    "version": 3
   },
   "file_extension": ".py",
   "mimetype": "text/x-python",
   "name": "python",
   "nbconvert_exporter": "python",
   "pygments_lexer": "ipython3",
   "version": "3.8.7"
  }
 },
 "nbformat": 4,
 "nbformat_minor": 5
}
