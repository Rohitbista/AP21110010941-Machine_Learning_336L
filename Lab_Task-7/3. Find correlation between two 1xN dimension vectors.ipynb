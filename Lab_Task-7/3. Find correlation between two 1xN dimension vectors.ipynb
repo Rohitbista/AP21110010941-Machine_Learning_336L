{
 "cells": [
  {
   "cell_type": "code",
   "execution_count": 40,
   "id": "d3a4fe78",
   "metadata": {},
   "outputs": [],
   "source": [
    "import numpy as np"
   ]
  },
  {
   "cell_type": "code",
   "execution_count": 41,
   "id": "1d408956",
   "metadata": {},
   "outputs": [],
   "source": [
    "def Variance(v):\n",
    "    Mean = np.sum(v) / np.size(v)\n",
    "    te = (v - Mean)**2\n",
    "    V = np.sum(te) / np.size(v)\n",
    "    return V"
   ]
  },
  {
   "cell_type": "code",
   "execution_count": 42,
   "id": "282cbd1e",
   "metadata": {},
   "outputs": [],
   "source": [
    "def covariance(v1, v2):\n",
    "    M1 = np.sum(v1) / np.size(v1)\n",
    "    M2 = np.sum(v2) / np.size(v2)\n",
    "    t1 = (v1 - M1)\n",
    "    t2 = (v2 - M2)\n",
    "    mul = t1 * t2\n",
    "    su = np.sum(mul)\n",
    "    cov = (su / (np.size(v1)-1))\n",
    "    return cov"
   ]
  },
  {
   "cell_type": "code",
   "execution_count": 43,
   "id": "6f267aa5",
   "metadata": {},
   "outputs": [],
   "source": [
    "def Correlation(v1, v2):\n",
    "    cov = covariance(v1, v2)\n",
    "    Var1 = Variance(v1)\n",
    "    Var2 = Variance(v2)\n",
    "    b=np.sqrt(Var1)*np.sqrt(Var2)\n",
    "    corr = cov / b\n",
    "    #corr = cov / (Var1**0.5 * Var2**0.5)\n",
    "    return corr"
   ]
  },
  {
   "cell_type": "code",
   "execution_count": 44,
   "id": "d1dbd286",
   "metadata": {},
   "outputs": [
    {
     "name": "stdout",
     "output_type": "stream",
     "text": [
      "Vector 1:  [[7 2 5 3 4 2 3]]\n",
      "Vector 2:  [[8 2 0 7 8 1 1]]\n"
     ]
    }
   ],
   "source": [
    "M = 7\n",
    "vec1 = np.random.randint(low=0, high=10, size=(1, M))\n",
    "vec2 = np.random.randint(low=0, high=10, size=(1, M))\n",
    "print(\"Vector 1: \", vec1)\n",
    "print(\"Vector 2: \", vec2)"
   ]
  },
  {
   "cell_type": "code",
   "execution_count": 45,
   "id": "1f178aa1",
   "metadata": {},
   "outputs": [
    {
     "name": "stdout",
     "output_type": "stream",
     "text": [
      "Correlation between those 2 vectors are : 0.5279946010700461\n"
     ]
    }
   ],
   "source": [
    "Corr = Correlation(vec1, vec2)\n",
    "print(\"Correlation between those 2 vectors are :\", Corr)"
   ]
  },
  {
   "cell_type": "code",
   "execution_count": null,
   "id": "65fd3d8f",
   "metadata": {},
   "outputs": [],
   "source": [
    "#Pearson Correlation Coefficient: It computes the Pearson correlation coefficient, which measures the linear relationship between two variables. It's a standardized measure, bounded between -1 and 1, where:\n",
    "\n",
    "#1 indicates a perfect positive linear relationship,\n",
    "#-1 indicates a perfect negative linear relationship,\n",
    "#0 indicates no linear relationship."
   ]
  },
  {
   "cell_type": "code",
   "execution_count": null,
   "id": "a9caf05a",
   "metadata": {},
   "outputs": [],
   "source": []
  }
 ],
 "metadata": {
  "kernelspec": {
   "display_name": "Python 3 (ipykernel)",
   "language": "python",
   "name": "python3"
  },
  "language_info": {
   "codemirror_mode": {
    "name": "ipython",
    "version": 3
   },
   "file_extension": ".py",
   "mimetype": "text/x-python",
   "name": "python",
   "nbconvert_exporter": "python",
   "pygments_lexer": "ipython3",
   "version": "3.8.7"
  }
 },
 "nbformat": 4,
 "nbformat_minor": 5
}
