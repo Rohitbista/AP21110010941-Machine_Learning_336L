{
 "cells": [
  {
   "cell_type": "code",
   "execution_count": 1,
   "id": "e84edb46",
   "metadata": {},
   "outputs": [],
   "source": [
    "import numpy as np"
   ]
  },
  {
   "cell_type": "code",
   "execution_count": 2,
   "id": "79411a9a",
   "metadata": {},
   "outputs": [],
   "source": [
    "def compute_covariance_matrix(feature_matrix):\n",
    "    # Number of samples\n",
    "    N = feature_matrix.shape[1]\n",
    "    \n",
    "    # Mean of each feature\n",
    "    mean_vector = np.mean(feature_matrix, axis=1).reshape(-1, 1)\n",
    "    \n",
    "    # Subtract mean from each feature\n",
    "    centered_matrix = feature_matrix - mean_vector\n",
    "    \n",
    "    # Compute covariance matrix\n",
    "    covariance_matrix = np.dot(centered_matrix, centered_matrix.T) / (N - 1)\n",
    "    \n",
    "    return covariance_matrix"
   ]
  },
  {
   "cell_type": "code",
   "execution_count": 3,
   "id": "fa128360",
   "metadata": {},
   "outputs": [],
   "source": [
    "def compute_correlation_matrix(feature_matrix):\n",
    "    # Number of samples\n",
    "    N = feature_matrix.shape[1]\n",
    "    \n",
    "    # Mean of each feature\n",
    "    mean_vector = np.mean(feature_matrix, axis=1).reshape(-1, 1)\n",
    "    \n",
    "    # Subtract mean from each feature\n",
    "    centered_matrix = feature_matrix - mean_vector\n",
    "    \n",
    "    # Compute covariance matrix\n",
    "    covariance_matrix = np.dot(centered_matrix, centered_matrix.T) / (N - 1)\n",
    "    \n",
    "    # Compute standard deviations of each feature\n",
    "    std_devs = np.sqrt(np.diagonal(covariance_matrix))\n",
    "    \n",
    "    # Compute correlation matrix\n",
    "    correlation_matrix = covariance_matrix / np.outer(std_devs, std_devs)\n",
    "    \n",
    "    return correlation_matrix"
   ]
  },
  {
   "cell_type": "code",
   "execution_count": 13,
   "id": "42528a5b",
   "metadata": {},
   "outputs": [],
   "source": [
    "feature_matrix = np.array([[0.5, 1.2, 3.4], [4.1, 2.5, 2.6], [8.7, 5.5, 9.9]])"
   ]
  },
  {
   "cell_type": "code",
   "execution_count": 14,
   "id": "87fe51a4",
   "metadata": {},
   "outputs": [
    {
     "name": "stdout",
     "output_type": "stream",
     "text": [
      "Covariance Matrix:\n",
      "[[ 2.29       -0.875       1.82      ]\n",
      " [-0.875       0.80333333  0.62666667]\n",
      " [ 1.82        0.62666667  5.17333333]]\n"
     ]
    }
   ],
   "source": [
    "# Compute the covariance matrix\n",
    "covariance_matrix = compute_covariance_matrix(feature_matrix)\n",
    "print(\"Covariance Matrix:\")\n",
    "print(covariance_matrix)"
   ]
  },
  {
   "cell_type": "code",
   "execution_count": 15,
   "id": "9099f179",
   "metadata": {},
   "outputs": [
    {
     "name": "stdout",
     "output_type": "stream",
     "text": [
      "\n",
      "Correlation Matrix:\n",
      "[[ 1.         -0.64512284  0.52877196]\n",
      " [-0.64512284  1.          0.30739972]\n",
      " [ 0.52877196  0.30739972  1.        ]]\n"
     ]
    }
   ],
   "source": [
    "# Compute the correlation matrix\n",
    "correlation_matrix = compute_correlation_matrix(feature_matrix)\n",
    "print(\"\\nCorrelation Matrix:\")\n",
    "print(correlation_matrix)"
   ]
  },
  {
   "cell_type": "code",
   "execution_count": 16,
   "id": "3e0539eb",
   "metadata": {},
   "outputs": [],
   "source": [
    "#The covariance matrix provides information about the linear relationship between pairs of features\n",
    "#The diagonal elements represent the variance of each feature, while off-diagonal elements represent the covariance between features.\n",
    "\n",
    "\n",
    "#The correlation matrix provides information about the strength and direction of the linear relationship between pairs of features, standardized by their individual variances.\n",
    "#Values range between -1 and 1, where 1 indicates a perfect positive correlation, -1 indicates a perfect negative correlation, and 0 indicates no correlation."
   ]
  },
  {
   "cell_type": "code",
   "execution_count": null,
   "id": "7d50a87d",
   "metadata": {},
   "outputs": [],
   "source": []
  }
 ],
 "metadata": {
  "kernelspec": {
   "display_name": "Python 3 (ipykernel)",
   "language": "python",
   "name": "python3"
  },
  "language_info": {
   "codemirror_mode": {
    "name": "ipython",
    "version": 3
   },
   "file_extension": ".py",
   "mimetype": "text/x-python",
   "name": "python",
   "nbconvert_exporter": "python",
   "pygments_lexer": "ipython3",
   "version": "3.8.7"
  }
 },
 "nbformat": 4,
 "nbformat_minor": 5
}
